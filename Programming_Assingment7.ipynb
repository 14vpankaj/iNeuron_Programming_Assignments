{
 "cells": [
  {
   "cell_type": "markdown",
   "id": "6684e223",
   "metadata": {},
   "source": [
    "### 1.\tWrite a Python Program to find sum of array?"
   ]
  },
  {
   "cell_type": "code",
   "execution_count": 2,
   "id": "1129f5db",
   "metadata": {},
   "outputs": [
    {
     "data": {
      "text/plain": [
       "array([ 0,  1,  2,  3,  4,  5,  6,  7,  8,  9, 10, 11, 12, 13])"
      ]
     },
     "execution_count": 2,
     "metadata": {},
     "output_type": "execute_result"
    }
   ],
   "source": [
    "import numpy as np\n",
    "array = np.arange(14)\n",
    "array"
   ]
  },
  {
   "cell_type": "code",
   "execution_count": 2,
   "id": "71ae7a35",
   "metadata": {},
   "outputs": [
    {
     "name": "stdout",
     "output_type": "stream",
     "text": [
      "Sum of Array is 91\n"
     ]
    }
   ],
   "source": [
    "sum = 0\n",
    "for i in range(len(array)):\n",
    "    sum += array[i]\n",
    "print(f'Sum of Array is {sum}')"
   ]
  },
  {
   "cell_type": "markdown",
   "id": "e63a8cca",
   "metadata": {},
   "source": [
    "### 2.\tWrite a Python Program to find largest element in an array?"
   ]
  },
  {
   "cell_type": "code",
   "execution_count": 3,
   "id": "36594037",
   "metadata": {},
   "outputs": [
    {
     "name": "stdout",
     "output_type": "stream",
     "text": [
      "Enter a number: 26\n",
      "Enter a number: 549\n",
      "Enter a number: 25\n",
      "Enter a number: 5\n",
      "Enter a number: 964\n",
      "Enter a number: 25\n",
      "Enter a number: 6\n",
      "Enter a number: 54\n",
      "Enter a number: 85\n",
      "[26, 549, 25, 5, 964, 25, 6, 54, 85]\n"
     ]
    }
   ],
   "source": [
    "array = []\n",
    "\n",
    "for i in range(1, 10):\n",
    "    n = int(input('Enter a number: '))\n",
    "    array.append(n)\n",
    "print(array) "
   ]
  },
  {
   "cell_type": "code",
   "execution_count": 4,
   "id": "037c921d",
   "metadata": {},
   "outputs": [
    {
     "data": {
      "text/plain": [
       "[26, 549, 25, 5, 964, 25, 6, 54, 85]"
      ]
     },
     "execution_count": 4,
     "metadata": {},
     "output_type": "execute_result"
    }
   ],
   "source": [
    "array"
   ]
  },
  {
   "cell_type": "code",
   "execution_count": 5,
   "id": "31227cd2",
   "metadata": {},
   "outputs": [
    {
     "name": "stdout",
     "output_type": "stream",
     "text": [
      "Largest element in array [26, 549, 25, 5, 964, 25, 6, 54, 85] is 964\n"
     ]
    }
   ],
   "source": [
    "print(f'Largest element in array {array} is', sorted(array)[-1])"
   ]
  },
  {
   "cell_type": "markdown",
   "id": "2fef3c5e",
   "metadata": {},
   "source": [
    "### 3.\tWrite a Python Program for array rotation?"
   ]
  },
  {
   "cell_type": "code",
   "execution_count": 6,
   "id": "a07f92ff",
   "metadata": {},
   "outputs": [
    {
     "name": "stdout",
     "output_type": "stream",
     "text": [
      "Array after left rotation is:  [3, 4, 5, 6, 7, 1, 2]\n"
     ]
    }
   ],
   "source": [
    "def rotateArray(a,d):\n",
    "    temp = []\n",
    "    n=len(a)\n",
    "    for i in range(d,n):\n",
    "        temp.append(a[i])\n",
    "    i = 0\n",
    "    for i in range (0,d):\n",
    "        temp.append(a[i])\n",
    "    a=temp.copy()\n",
    "    return a\n",
    " \n",
    "arr = [1, 2, 3, 4, 5, 6, 7]\n",
    "print(\"Array after left rotation is: \", end=' ')\n",
    "print(rotateArray(arr, 2))"
   ]
  },
  {
   "cell_type": "markdown",
   "id": "2eeb1d85",
   "metadata": {},
   "source": [
    "### 4.\tWrite a Python Program to Split the array and add the first part to the end? "
   ]
  },
  {
   "cell_type": "code",
   "execution_count": 14,
   "id": "8d52aa4f",
   "metadata": {},
   "outputs": [
    {
     "data": {
      "text/plain": [
       "array([0, 1, 2, 3, 4, 5, 6, 7, 8, 9])"
      ]
     },
     "execution_count": 14,
     "metadata": {},
     "output_type": "execute_result"
    }
   ],
   "source": [
    "array = np.arange(10)\n",
    "array"
   ]
  },
  {
   "cell_type": "code",
   "execution_count": 15,
   "id": "36de56a1",
   "metadata": {},
   "outputs": [
    {
     "name": "stdout",
     "output_type": "stream",
     "text": [
      "Enter the number of elements to split: 6\n",
      "6 7 8 9 0 1 2 3 4 5 "
     ]
    }
   ],
   "source": [
    "def split_array(arr, n, k):\n",
    "    for i in range(0,k):\n",
    "        x = arr[0]\n",
    "        for j in range(0,n-1):\n",
    "            arr[j] = arr[j+1]\n",
    "        arr[n-1] = x\n",
    "\n",
    "arr = array\n",
    "n = len(arr)\n",
    "k = int(input('Enter the number of elements to split: '))\n",
    "\n",
    "split_array(arr, n, k)\n",
    "\n",
    "for i in range(0,n):\n",
    "    print(arr[i], end= ' ')\n"
   ]
  },
  {
   "cell_type": "markdown",
   "id": "8fddd392",
   "metadata": {},
   "source": [
    "### 5.\tWrite a Python Program to check if given array is Monotonic?"
   ]
  },
  {
   "cell_type": "code",
   "execution_count": 32,
   "id": "2a0e501f",
   "metadata": {},
   "outputs": [
    {
     "data": {
      "text/plain": [
       "array([43, 42, 87, 22, 11, 61, 23, 28, 55, 84, 16, 11, 86, 49, 19, 56, 83,\n",
       "       54, 63, 29])"
      ]
     },
     "execution_count": 32,
     "metadata": {},
     "output_type": "execute_result"
    }
   ],
   "source": [
    "arr = np.random.randint(10,100, 20)\n",
    "arr"
   ]
  },
  {
   "cell_type": "code",
   "execution_count": 33,
   "id": "dd88684f",
   "metadata": {},
   "outputs": [
    {
     "name": "stdout",
     "output_type": "stream",
     "text": [
      "[43 42 87 22 11 61 23 28 55 84 16 11 86 49 19 56 83 54 63 29] is not a Monotnic Array\n"
     ]
    }
   ],
   "source": [
    "if all((arr[i] <= arr[i+1] for i in range(len(arr)-1)) or (arr[i] >= arr[i+1] for i in range(len(arr)-1))):\n",
    "       print(f\"{arr} is a Monotonic Array\")\n",
    "else:\n",
    "    print(f\"{arr} is not a Monotnic Array\")"
   ]
  },
  {
   "cell_type": "code",
   "execution_count": 36,
   "id": "a920a311",
   "metadata": {},
   "outputs": [
    {
     "name": "stdout",
     "output_type": "stream",
     "text": [
      "[2, 4, 6, 8, 10, 12, 14] is a Monotonic Array\n"
     ]
    }
   ],
   "source": [
    "arr1 = [2,4,6,8,10,12,14]\n",
    "if all((arr1[i] < arr1[i+1] for i in range(len(arr1)-1)) or (arr[i] > arr[i+1] for i in range(len(arr1)-1))):\n",
    "    print(f\"{arr1} is a Monotonic Array\")\n",
    "else:\n",
    "    print(f\"{arr1} is not a Monotnic Array\")"
   ]
  },
  {
   "cell_type": "code",
   "execution_count": null,
   "id": "f48639b7",
   "metadata": {},
   "outputs": [],
   "source": []
  },
  {
   "cell_type": "code",
   "execution_count": null,
   "id": "28404723",
   "metadata": {},
   "outputs": [],
   "source": []
  }
 ],
 "metadata": {
  "kernelspec": {
   "display_name": "Python 3",
   "language": "python",
   "name": "python3"
  },
  "language_info": {
   "codemirror_mode": {
    "name": "ipython",
    "version": 3
   },
   "file_extension": ".py",
   "mimetype": "text/x-python",
   "name": "python",
   "nbconvert_exporter": "python",
   "pygments_lexer": "ipython3",
   "version": "3.8.8"
  }
 },
 "nbformat": 4,
 "nbformat_minor": 5
}
