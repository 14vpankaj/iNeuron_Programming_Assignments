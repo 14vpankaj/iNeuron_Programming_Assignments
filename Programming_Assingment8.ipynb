{
 "cells": [
  {
   "cell_type": "markdown",
   "id": "b7c84ea8",
   "metadata": {},
   "source": [
    "### 1.\tWrite a Python Program to Add Two Matrices?"
   ]
  },
  {
   "cell_type": "markdown",
   "id": "967ff413",
   "metadata": {},
   "source": [
    "#### Solution 1"
   ]
  },
  {
   "cell_type": "code",
   "execution_count": 32,
   "id": "f0c5b336",
   "metadata": {},
   "outputs": [],
   "source": [
    "import numpy as np\n",
    "x = np.random.randint(0,20,12).reshape(4,3)\n",
    "y = np.random.randint(0,20,12).reshape(4,3)"
   ]
  },
  {
   "cell_type": "code",
   "execution_count": 33,
   "id": "9687f2e9",
   "metadata": {},
   "outputs": [
    {
     "data": {
      "text/plain": [
       "array([[ 6,  1,  7],\n",
       "       [13,  7, 19],\n",
       "       [ 5,  6,  2],\n",
       "       [12, 13, 18]])"
      ]
     },
     "execution_count": 33,
     "metadata": {},
     "output_type": "execute_result"
    }
   ],
   "source": [
    "x"
   ]
  },
  {
   "cell_type": "code",
   "execution_count": 34,
   "id": "a961fd4f",
   "metadata": {},
   "outputs": [
    {
     "data": {
      "text/plain": [
       "array([[19, 14,  7],\n",
       "       [14,  8, 17],\n",
       "       [ 6, 13, 19],\n",
       "       [14, 11,  7]])"
      ]
     },
     "execution_count": 34,
     "metadata": {},
     "output_type": "execute_result"
    }
   ],
   "source": [
    "y"
   ]
  },
  {
   "cell_type": "code",
   "execution_count": 35,
   "id": "a6bbd72a",
   "metadata": {},
   "outputs": [],
   "source": [
    "result = [[0,0,0],\n",
    "          [0,0,0],\n",
    "          [0,0,0],\n",
    "          [0,0,0]]"
   ]
  },
  {
   "cell_type": "code",
   "execution_count": 36,
   "id": "1463aa8b",
   "metadata": {},
   "outputs": [],
   "source": [
    "# iterate through rows\n",
    "for i in range(len(x)):\n",
    "   # iterate through columns\n",
    "   for j in range(len(x[0])):\n",
    "       result[i][j] = x[i][j] + y[i][j]"
   ]
  },
  {
   "cell_type": "code",
   "execution_count": 37,
   "id": "6fc2c0b9",
   "metadata": {},
   "outputs": [
    {
     "name": "stdout",
     "output_type": "stream",
     "text": [
      "[25, 15, 14]\n",
      "[27, 15, 36]\n",
      "[11, 19, 21]\n",
      "[26, 24, 25]\n"
     ]
    }
   ],
   "source": [
    "for r in result:\n",
    "    print(r)"
   ]
  },
  {
   "cell_type": "markdown",
   "id": "e7ff3443",
   "metadata": {},
   "source": [
    "#### Soultion 2 - Using list comprehension"
   ]
  },
  {
   "cell_type": "code",
   "execution_count": 39,
   "id": "f406a345",
   "metadata": {},
   "outputs": [],
   "source": [
    "X = np.random.randint(0,20,12).reshape(4,3)\n",
    "Y = np.random.randint(0,20,12).reshape(4,3)"
   ]
  },
  {
   "cell_type": "code",
   "execution_count": 40,
   "id": "87bdab65",
   "metadata": {},
   "outputs": [
    {
     "data": {
      "text/plain": [
       "array([[10, 15, 19],\n",
       "       [ 5,  2,  4],\n",
       "       [ 5,  8,  1],\n",
       "       [11, 17, 18]])"
      ]
     },
     "execution_count": 40,
     "metadata": {},
     "output_type": "execute_result"
    }
   ],
   "source": [
    "X"
   ]
  },
  {
   "cell_type": "code",
   "execution_count": 41,
   "id": "5a091947",
   "metadata": {},
   "outputs": [
    {
     "data": {
      "text/plain": [
       "array([[14, 14, 17],\n",
       "       [ 0,  6, 14],\n",
       "       [19,  6, 10],\n",
       "       [ 0, 15,  7]])"
      ]
     },
     "execution_count": 41,
     "metadata": {},
     "output_type": "execute_result"
    }
   ],
   "source": [
    "Y"
   ]
  },
  {
   "cell_type": "code",
   "execution_count": 47,
   "id": "baf754e5",
   "metadata": {},
   "outputs": [
    {
     "name": "stdout",
     "output_type": "stream",
     "text": [
      "[24, 29, 36]\n",
      "[5, 8, 18]\n",
      "[24, 14, 11]\n",
      "[11, 32, 25]\n"
     ]
    }
   ],
   "source": [
    "result = [[X[i][j] + Y[i][j] for j in range(len(X[0]))] for i in range(len(X))]\n",
    "for r in result:\n",
    "    print(r)"
   ]
  },
  {
   "cell_type": "markdown",
   "id": "4643d22d",
   "metadata": {},
   "source": [
    "### 2.\tWrite a Python Program to Multiply Two Matrices?"
   ]
  },
  {
   "cell_type": "code",
   "execution_count": 6,
   "id": "fce32836",
   "metadata": {},
   "outputs": [],
   "source": [
    "Mat1 = np.random.randint(0,20,9).reshape(3,3)\n",
    "Mat2 = np.random.randint(0,20,12).reshape(3,4)"
   ]
  },
  {
   "cell_type": "code",
   "execution_count": 7,
   "id": "0e01a758",
   "metadata": {},
   "outputs": [
    {
     "data": {
      "text/plain": [
       "array([[ 3, 12, 11],\n",
       "       [ 4,  8, 18],\n",
       "       [ 9, 15,  8]])"
      ]
     },
     "execution_count": 7,
     "metadata": {},
     "output_type": "execute_result"
    }
   ],
   "source": [
    "Mat1"
   ]
  },
  {
   "cell_type": "code",
   "execution_count": 8,
   "id": "99d6ace7",
   "metadata": {},
   "outputs": [
    {
     "data": {
      "text/plain": [
       "array([[12, 10, 14,  6],\n",
       "       [15, 19,  8, 10],\n",
       "       [15,  0,  3, 14]])"
      ]
     },
     "execution_count": 8,
     "metadata": {},
     "output_type": "execute_result"
    }
   ],
   "source": [
    "Mat2"
   ]
  },
  {
   "cell_type": "code",
   "execution_count": 9,
   "id": "a3f97ca0",
   "metadata": {},
   "outputs": [
    {
     "name": "stdout",
     "output_type": "stream",
     "text": [
      "[381, 258, 171, 292]\n",
      "[438, 192, 174, 356]\n",
      "[453, 375, 270, 316]\n"
     ]
    }
   ],
   "source": [
    "result = [[0,0,0,0],\n",
    "         [0,0,0,0],\n",
    "         [0,0,0,0]]\n",
    "\n",
    "# iterate through columns of Matrix 1\n",
    "\n",
    "for i in range(len(Mat1)):\n",
    "\n",
    "    # iterate through columns of Matrix 2\n",
    "    \n",
    "    for j in range(len(Mat2[0])):\n",
    "        \n",
    "        # iterate through rows of Matrix 2\n",
    "        \n",
    "        for k in range(len(Mat2)):\n",
    "            result[i][j] += Mat1[i][k] * Mat2[k][j]\n",
    "\n",
    "for r in result:\n",
    "    print(r)"
   ]
  },
  {
   "cell_type": "markdown",
   "id": "af2aba03",
   "metadata": {},
   "source": [
    "### 3.\tWrite a Python Program to Transpose a Matrix?"
   ]
  },
  {
   "cell_type": "code",
   "execution_count": 13,
   "id": "74097927",
   "metadata": {},
   "outputs": [
    {
     "data": {
      "text/plain": [
       "array([[19, 13],\n",
       "       [13,  1],\n",
       "       [ 5, 12]])"
      ]
     },
     "execution_count": 13,
     "metadata": {},
     "output_type": "execute_result"
    }
   ],
   "source": [
    "matrix = np.random.randint(0,20,6).reshape(3,2)\n",
    "matrix"
   ]
  },
  {
   "cell_type": "code",
   "execution_count": 21,
   "id": "53f5631e",
   "metadata": {},
   "outputs": [
    {
     "name": "stdout",
     "output_type": "stream",
     "text": [
      "[19, 13, 5]\n",
      "[13, 1, 12]\n"
     ]
    }
   ],
   "source": [
    "result = [[0,0,0],\n",
    "          [0,0,0]]\n",
    "\n",
    "# iterate through rows of matrix\n",
    "\n",
    "for i in range(len(matrix)):\n",
    "    \n",
    "    # iterate through columns of matrix\n",
    "    \n",
    "    for j in range(len(matrix[0])):\n",
    "        result[j][i] = matrix[i][j]\n",
    "\n",
    "for r in result:\n",
    "    print(r)"
   ]
  },
  {
   "cell_type": "markdown",
   "id": "ebdcbafa",
   "metadata": {},
   "source": [
    "### 4.\tWrite a Python Program to Sort Words in Alphabetic Order?"
   ]
  },
  {
   "cell_type": "code",
   "execution_count": 3,
   "id": "fdab9921",
   "metadata": {},
   "outputs": [
    {
     "name": "stdout",
     "output_type": "stream",
     "text": [
      "Please enter a sentence: if you wish to make an apple pie from scratch you must first invent the universe\n",
      "an\n",
      "apple\n",
      "first\n",
      "from\n",
      "if\n",
      "invent\n",
      "make\n",
      "must\n",
      "pie\n",
      "scratch\n",
      "the\n",
      "to\n",
      "universe\n",
      "wish\n",
      "you\n",
      "you\n"
     ]
    }
   ],
   "source": [
    "str = input('Please enter a sentence: ')\n",
    "\n",
    "sentence = str.split()\n",
    "sentence.sort()\n",
    "\n",
    "for word in sentence:\n",
    "    print(word)"
   ]
  },
  {
   "cell_type": "markdown",
   "id": "b0052dc9",
   "metadata": {},
   "source": [
    "### 5.\tWrite a Python Program to Remove Punctuation From a String?"
   ]
  },
  {
   "cell_type": "code",
   "execution_count": 12,
   "id": "b8086cd7",
   "metadata": {},
   "outputs": [
    {
     "name": "stdout",
     "output_type": "stream",
     "text": [
      "Enter a sentence with punctuations: My *Name &is Pankaj ^%&.and<> I love?>_ Data @Science.\n",
      "My Name is Pankaj and I love Data Science\n"
     ]
    }
   ],
   "source": [
    "punctuation = '.?\"\"''`~;:,-!()[]/\\{}<>*_^@#$%&'\n",
    "\n",
    "str = input('Enter a sentence with punctuations: ')\n",
    "\n",
    "sentence = ''\n",
    "\n",
    "for char in str:\n",
    "    if char not in punctuation:\n",
    "        sentence += char\n",
    "\n",
    "print(sentence)"
   ]
  },
  {
   "cell_type": "code",
   "execution_count": null,
   "id": "9ee0f50c",
   "metadata": {},
   "outputs": [],
   "source": []
  }
 ],
 "metadata": {
  "kernelspec": {
   "display_name": "Python 3",
   "language": "python",
   "name": "python3"
  },
  "language_info": {
   "codemirror_mode": {
    "name": "ipython",
    "version": 3
   },
   "file_extension": ".py",
   "mimetype": "text/x-python",
   "name": "python",
   "nbconvert_exporter": "python",
   "pygments_lexer": "ipython3",
   "version": "3.8.8"
  }
 },
 "nbformat": 4,
 "nbformat_minor": 5
}
