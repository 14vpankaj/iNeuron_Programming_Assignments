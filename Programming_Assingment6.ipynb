{
 "cells": [
  {
   "cell_type": "markdown",
   "id": "8a8fd3fe",
   "metadata": {},
   "source": [
    "### 1.\tWrite a Python Program to Display Fibonacci Sequence Using Recursion?"
   ]
  },
  {
   "cell_type": "code",
   "execution_count": 16,
   "id": "266ec3f4",
   "metadata": {},
   "outputs": [
    {
     "name": "stdout",
     "output_type": "stream",
     "text": [
      "Enter a number: 14\n",
      "Fibonacci Sequence: \n",
      "0 1 1 2 3 5 8 13 21 34 55 89 144 233 "
     ]
    }
   ],
   "source": [
    "def fibonacci(n):\n",
    "    if n <=1:\n",
    "        return n\n",
    "    else:\n",
    "        return(fibonacci(n-1) + fibonacci(n-2))\n",
    "    \n",
    "fibo = int(input('Enter a number: '))\n",
    "\n",
    "if fibo <=0:\n",
    "    print('Please enter a positive interger')\n",
    "else:\n",
    "    print('Fibonacci Sequence: ')\n",
    "    for i in range(fibo):\n",
    "        print(fibonacci(i), end=\" \")"
   ]
  },
  {
   "cell_type": "markdown",
   "id": "4b649cb8",
   "metadata": {},
   "source": [
    "### 2.\tWrite a Python Program to Find Factorial of Number Using Recursion?"
   ]
  },
  {
   "cell_type": "code",
   "execution_count": 38,
   "id": "afe45c58",
   "metadata": {},
   "outputs": [
    {
     "name": "stdout",
     "output_type": "stream",
     "text": [
      "Pleae enter a number: 14\n",
      "Factorial of 14 is 87178291200\n"
     ]
    }
   ],
   "source": [
    "def factorial(n):\n",
    "        if n == 1:\n",
    "            return n\n",
    "        else:\n",
    "            return n * factorial(n-1)\n",
    "    \n",
    "num = int(input('Pleae enter a number: '))\n",
    "\n",
    "if num < 0:\n",
    "    print('Please enter a positive integer')\n",
    "elif num == 0:\n",
    "    print('Factorial of 0 is 1')\n",
    "else:\n",
    "    print(f\"Factorial of {num} is {factorial(num)}\")\n",
    "    "
   ]
  },
  {
   "cell_type": "markdown",
   "id": "4e4dde47",
   "metadata": {},
   "source": [
    "### 3.\tWrite a Python Program to calculate your Body Mass Index?"
   ]
  },
  {
   "cell_type": "markdown",
   "id": "729e1c33",
   "metadata": {},
   "source": [
    "The BMI is universally expressed in kg/m2, resulting from mass in kilograms and height in metres."
   ]
  },
  {
   "cell_type": "code",
   "execution_count": 47,
   "id": "10285861",
   "metadata": {},
   "outputs": [
    {
     "name": "stdout",
     "output_type": "stream",
     "text": [
      "Please enter your weight in kg: 72\n",
      "Please enter you height in inches: 67\n",
      "Your Body Mass Index is 24.860820494641658\n"
     ]
    }
   ],
   "source": [
    "def bmi_calculate(m,h):\n",
    "    bmi = (m/h**2)\n",
    "    print(f'Your Body Mass Index is {bmi}')\n",
    "\n",
    "m = int(input('Please enter your weight in kg: '))\n",
    "h = int(input('Please enter you height in inches: '))\n",
    "h_meter = h * 0.0254\n",
    "\n",
    "bmi_calculate(m,h_meter)"
   ]
  },
  {
   "cell_type": "markdown",
   "id": "b90fbac3",
   "metadata": {},
   "source": [
    "### 4.\tWrite a Python Program to calculate the natural logarithm of any number?"
   ]
  },
  {
   "cell_type": "code",
   "execution_count": 53,
   "id": "80a9ce8a",
   "metadata": {},
   "outputs": [
    {
     "name": "stdout",
     "output_type": "stream",
     "text": [
      "Please enter a number to find its logarithm: 14\n",
      "Natural logarithm of 14 is 2.6390573296152584\n"
     ]
    }
   ],
   "source": [
    "import math\n",
    "\n",
    "def logarithm(n):\n",
    "    log = math.log(n)\n",
    "    print(f'Natural logarithm of {n} is {log}')\n",
    "\n",
    "n = int(input(\"Please enter a number to find its logarithm: \"))\n",
    "\n",
    "logarithm(n)"
   ]
  },
  {
   "cell_type": "markdown",
   "id": "c4d8c49a",
   "metadata": {},
   "source": [
    "### 5.\tWrite a Python Program for cube sum of first n natural numbers?"
   ]
  },
  {
   "cell_type": "code",
   "execution_count": 62,
   "id": "074f4dd3",
   "metadata": {},
   "outputs": [
    {
     "name": "stdout",
     "output_type": "stream",
     "text": [
      "Please enter a number: 5\n",
      "Sum of first 5 natural numbers is 225\n"
     ]
    }
   ],
   "source": [
    "def cube_sum(n):\n",
    "    sum = 0\n",
    "    for i in range(1,n+1):\n",
    "        sum += i**3\n",
    "    print(f'Sum of first {n} natural numbers is {sum}')\n",
    "\n",
    "n = int(input('Please enter a number: '))\n",
    "\n",
    "cube_sum(n)"
   ]
  },
  {
   "cell_type": "code",
   "execution_count": null,
   "id": "3901b10c",
   "metadata": {},
   "outputs": [],
   "source": []
  },
  {
   "cell_type": "code",
   "execution_count": null,
   "id": "1d5317ab",
   "metadata": {},
   "outputs": [],
   "source": []
  }
 ],
 "metadata": {
  "kernelspec": {
   "display_name": "Python 3",
   "language": "python",
   "name": "python3"
  },
  "language_info": {
   "codemirror_mode": {
    "name": "ipython",
    "version": 3
   },
   "file_extension": ".py",
   "mimetype": "text/x-python",
   "name": "python",
   "nbconvert_exporter": "python",
   "pygments_lexer": "ipython3",
   "version": "3.8.8"
  }
 },
 "nbformat": 4,
 "nbformat_minor": 5
}
