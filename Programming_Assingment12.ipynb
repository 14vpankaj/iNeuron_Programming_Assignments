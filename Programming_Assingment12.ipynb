{
 "cells": [
  {
   "cell_type": "markdown",
   "id": "d95f7ea6",
   "metadata": {},
   "source": [
    "### 1.\tWrite a Python program to Extract Unique values dictionary values?"
   ]
  },
  {
   "cell_type": "code",
   "execution_count": 14,
   "id": "64ffc0d6",
   "metadata": {},
   "outputs": [
    {
     "name": "stdout",
     "output_type": "stream",
     "text": [
      "Unique values in {'a': 2, 'b': 5, 'c': 8, 'd': 5} are [2, 5, 8]\n"
     ]
    }
   ],
   "source": [
    "dict = { 'a' : 2,\n",
    "         'b' : 5,\n",
    "         'c' : 8,\n",
    "         'd' : 5\n",
    "}\n",
    "\n",
    "x = []\n",
    "for i in dict.values():\n",
    "    if i not in x:\n",
    "        x.append(i)\n",
    "print(f'Unique values in {dict} are {x}')"
   ]
  },
  {
   "cell_type": "markdown",
   "id": "a0477eef",
   "metadata": {},
   "source": [
    "### 2.\tWrite a Python program to find the sum of all items in a dictionary?"
   ]
  },
  {
   "cell_type": "code",
   "execution_count": 16,
   "id": "5e7af24b",
   "metadata": {},
   "outputs": [
    {
     "name": "stdout",
     "output_type": "stream",
     "text": [
      "Sum of all items in {'a': 14, 'b': 23, 'c': 86, 'd': 5} is 128\n"
     ]
    }
   ],
   "source": [
    "dict = { 'a' : 14,\n",
    "         'b' : 23,\n",
    "         'c' : 86,\n",
    "         'd' : 5\n",
    "}\n",
    "\n",
    "sum = 0\n",
    "\n",
    "for i in dict.values():\n",
    "    sum += i\n",
    "print(f'Sum of all items in {dict} is {sum}')"
   ]
  },
  {
   "cell_type": "markdown",
   "id": "0a75a8e4",
   "metadata": {},
   "source": [
    "### 3.\tWrite a Python program to Merging two Dictionaries?"
   ]
  },
  {
   "cell_type": "markdown",
   "id": "d76212fe",
   "metadata": {},
   "source": [
    "#### Soultion 1"
   ]
  },
  {
   "cell_type": "code",
   "execution_count": 21,
   "id": "6ef9c3ba",
   "metadata": {},
   "outputs": [
    {
     "name": "stdout",
     "output_type": "stream",
     "text": [
      "None\n",
      "After merging tow dictionaries: {'x': 'star', 'y': 'sun', 'z': 'moon', 'a': 14, 'b': 23, 'c': 86}\n"
     ]
    }
   ],
   "source": [
    "dict1 = { 'a' : 14,\n",
    "          'b' : 23,\n",
    "          'c' : 86,\n",
    "}\n",
    "\n",
    "dict2 = { 'x' : 'star',\n",
    "          'y' : 'sun',\n",
    "          'z' : 'moon',\n",
    "}\n",
    "\n",
    "def merge(dict1, dict2):\n",
    "    print(dict2.update(dict1))\n",
    "    \n",
    "merge(dict1, dict2)\n",
    "print(f'After merging tow dictionaries: {dict2}')"
   ]
  },
  {
   "cell_type": "markdown",
   "id": "51499f28",
   "metadata": {},
   "source": [
    "#### Solution 2"
   ]
  },
  {
   "cell_type": "code",
   "execution_count": 22,
   "id": "00d76a4c",
   "metadata": {},
   "outputs": [
    {
     "name": "stdout",
     "output_type": "stream",
     "text": [
      "After merging {'a': 2, 'b': 5, 'c': 8} and {'x': 'galaxy', 'y': 'universe', 'z': 'multiverse'}, we get {'a': 2, 'b': 5, 'c': 8, 'x': 'galaxy', 'y': 'universe', 'z': 'multiverse'}\n"
     ]
    }
   ],
   "source": [
    "dict3 = { 'a' : 2,\n",
    "          'b' : 5,\n",
    "          'c' : 8,\n",
    "}\n",
    "\n",
    "dict4 = { 'x' : 'galaxy',\n",
    "          'y' : 'universe',\n",
    "          'z' : 'multiverse',\n",
    "}\n",
    "\n",
    "\n",
    "\n",
    "def merge(dict3 ,dict4):\n",
    "    result = {**dict3, **dict4}\n",
    "    print(f'After merging {dict3} and {dict4}, we get {result}')\n",
    "    \n",
    "merge(dict3, dict4)"
   ]
  },
  {
   "cell_type": "markdown",
   "id": "59b276f3",
   "metadata": {},
   "source": [
    "### 4.\tWrite a Python program to convert key-values list to flat dictionary?"
   ]
  },
  {
   "cell_type": "code",
   "execution_count": 2,
   "id": "327be009",
   "metadata": {},
   "outputs": [
    {
     "name": "stdout",
     "output_type": "stream",
     "text": [
      "The original dictionary is : {'month': [1, 2, 3], 'name': ['Jan', 'Feb', 'March']}\n",
      "Flattened dictionary : {1: 'Jan', 2: 'Feb', 3: 'March'}\n"
     ]
    }
   ],
   "source": [
    "dict5 = {'month' : [1, 2, 3],\n",
    "        'name' : ['Jan', 'Feb', 'March']}\n",
    "\n",
    "print(\"The original dictionary is : \" + str(dict5))\n",
    "\n",
    "result = dict(zip(dict5['month'], dict5['name']))\n",
    "\n",
    "print(\"Flattened dictionary : \" + str(result))"
   ]
  },
  {
   "cell_type": "markdown",
   "id": "3eef3ea4",
   "metadata": {},
   "source": [
    "### 5.\tWrite a Python program to insertion at the beginning in OrderedDict?"
   ]
  },
  {
   "cell_type": "code",
   "execution_count": 2,
   "id": "dcee4dbc",
   "metadata": {},
   "outputs": [
    {
     "name": "stdout",
     "output_type": "stream",
     "text": [
      "Dicationary after insertion at the beginning in OrderedDict: OrderedDict([('galaxy', 'milky-way'), ('star', 'sun'), ('planet', 'earth')])\n"
     ]
    }
   ],
   "source": [
    "from collections import OrderedDict\n",
    "\n",
    "dict={'star': 'sun', 'planet': 'earth'}\n",
    "\n",
    "unordered= OrderedDict(dict)\n",
    "\n",
    "unordered.update({'galaxy':'milky-way'})\n",
    "\n",
    "unordered.move_to_end('galaxy',last=False)\n",
    "print(f'Dicationary after insertion at the beginning in OrderedDict: {unordered}')"
   ]
  },
  {
   "cell_type": "markdown",
   "id": "86277a78",
   "metadata": {},
   "source": [
    "### 6.\tWrite a Python program to check order of character in string using OrderedDict()?"
   ]
  },
  {
   "cell_type": "code",
   "execution_count": 3,
   "id": "399d397c",
   "metadata": {},
   "outputs": [
    {
     "name": "stdout",
     "output_type": "stream",
     "text": [
      "Enter string: Pankaj\n",
      "Enter pattern: an\n",
      "OrderedDict([('P', None), ('a', None), ('n', None), ('k', None), ('j', None)])\n",
      "The order pattern is correct\n"
     ]
    }
   ],
   "source": [
    "def check_order(str, pattern):\n",
    "    dict = OrderedDict.fromkeys(str)\n",
    "    print(dict)\n",
    "    pattern_length = 0\n",
    "    for key, value in dict.items():\n",
    "        if (key == pattern[pattern_length]):\n",
    "            pattern_length += 1\n",
    "    \n",
    "        if (pattern_length == (len(pattern))):\n",
    "            return True\n",
    "    \n",
    "    return False\n",
    "\n",
    "str = input('Enter string: ')\n",
    "pattern = input('Enter pattern: ')\n",
    "    \n",
    "if check_order(str,pattern):\n",
    "    print('The order pattern is correct')\n",
    "else:\n",
    "    print('The order pattern is incorrect')      \n"
   ]
  },
  {
   "cell_type": "markdown",
   "id": "0bc0c464",
   "metadata": {},
   "source": [
    "### 7.\tWrite a Python program to sort Python Dictionaries by Key or Value?"
   ]
  },
  {
   "cell_type": "code",
   "execution_count": 4,
   "id": "cd177c24",
   "metadata": {},
   "outputs": [
    {
     "name": "stdout",
     "output_type": "stream",
     "text": [
      "['a', 'b', 'c', 'd', 'e']\n",
      "[2, 5, 8, 14, 23]\n",
      "[('a', 2), ('b', 5), ('c', 8), ('d', 14), ('e', 23)]\n"
     ]
    }
   ],
   "source": [
    "dict = { 'a': 2,\n",
    "         'd': 14,\n",
    "         'b': 5,\n",
    "         'c': 8,\n",
    "         'e': 23,}\n",
    "\n",
    "print(sorted(dict.keys()))\n",
    "print(sorted(dict.values()))\n",
    "print(sorted(dict.items()))"
   ]
  },
  {
   "cell_type": "code",
   "execution_count": null,
   "id": "36c1fbde",
   "metadata": {},
   "outputs": [],
   "source": []
  }
 ],
 "metadata": {
  "kernelspec": {
   "display_name": "Python 3",
   "language": "python",
   "name": "python3"
  },
  "language_info": {
   "codemirror_mode": {
    "name": "ipython",
    "version": 3
   },
   "file_extension": ".py",
   "mimetype": "text/x-python",
   "name": "python",
   "nbconvert_exporter": "python",
   "pygments_lexer": "ipython3",
   "version": "3.8.8"
  }
 },
 "nbformat": 4,
 "nbformat_minor": 5
}
