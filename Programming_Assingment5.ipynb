{
 "cells": [
  {
   "cell_type": "markdown",
   "id": "a617dd51",
   "metadata": {},
   "source": [
    "### 1.\tWrite a Python Program to Find LCM?"
   ]
  },
  {
   "cell_type": "code",
   "execution_count": 13,
   "id": "29497430",
   "metadata": {},
   "outputs": [],
   "source": [
    "def lcm():\n",
    "    x = int(input('Enter the first number: '))\n",
    "    y = int(input('Enter the second number: '))\n",
    "    if x > y:\n",
    "        greater = x\n",
    "    else:\n",
    "        greater = y\n",
    "    \n",
    "    while True:\n",
    "        if greater % x == 0 and greater % y == 0:\n",
    "            lcm = greater\n",
    "            break\n",
    "        greater += 1\n",
    "    return lcm"
   ]
  },
  {
   "cell_type": "code",
   "execution_count": 14,
   "id": "2adbcaf3",
   "metadata": {},
   "outputs": [
    {
     "name": "stdout",
     "output_type": "stream",
     "text": [
      "Enter the first number: 24\n",
      "Enter the second number: 36\n"
     ]
    },
    {
     "data": {
      "text/plain": [
       "72"
      ]
     },
     "execution_count": 14,
     "metadata": {},
     "output_type": "execute_result"
    }
   ],
   "source": [
    "lcm()"
   ]
  },
  {
   "cell_type": "markdown",
   "id": "b34744e5",
   "metadata": {},
   "source": [
    "### 2.\tWrite a Python Program to Find HCF?"
   ]
  },
  {
   "cell_type": "code",
   "execution_count": 29,
   "id": "fc462d25",
   "metadata": {},
   "outputs": [],
   "source": [
    "def hcf():\n",
    "    x = int(input('Enter the first number: '))\n",
    "    y = int(input('Enter the second number: '))\n",
    "    \n",
    "    if x < y:\n",
    "        smaller = x\n",
    "    else:\n",
    "        smaller = y\n",
    "    hcf = 0\n",
    "    for i in range(1, smaller+1):\n",
    "        if x % i == 0 and y % i == 0:\n",
    "            hcf = i\n",
    "    return hcf"
   ]
  },
  {
   "cell_type": "code",
   "execution_count": 31,
   "id": "15ec3173",
   "metadata": {},
   "outputs": [
    {
     "name": "stdout",
     "output_type": "stream",
     "text": [
      "Enter the first number: 25\n",
      "Enter the second number: 45\n"
     ]
    },
    {
     "data": {
      "text/plain": [
       "5"
      ]
     },
     "execution_count": 31,
     "metadata": {},
     "output_type": "execute_result"
    }
   ],
   "source": [
    "hcf()"
   ]
  },
  {
   "cell_type": "markdown",
   "id": "34b91e9c",
   "metadata": {},
   "source": [
    "### 3.\tWrite a Python Program to Convert Decimal to Binary, Octal and Hexadecimal?"
   ]
  },
  {
   "cell_type": "code",
   "execution_count": 36,
   "id": "2c4d295a",
   "metadata": {},
   "outputs": [
    {
     "name": "stdout",
     "output_type": "stream",
     "text": [
      "Enter number: 29\n",
      "29 in binary is 0b11101\n",
      "29 in octal is 0o35\n",
      "29 in hexadecimal is 0x1d\n"
     ]
    }
   ],
   "source": [
    "n =int(input(\"Enter number: \"))\n",
    "\n",
    "print(f'{n} in binary is', bin(n))\n",
    "print(f'{n} in octal is', oct(n))\n",
    "print(f'{n} in hexadecimal is', hex(n))"
   ]
  },
  {
   "cell_type": "markdown",
   "id": "a4654d5d",
   "metadata": {},
   "source": [
    "### 4.\tWrite a Python Program To Find ASCII value of a character?"
   ]
  },
  {
   "cell_type": "code",
   "execution_count": 39,
   "id": "db4ef251",
   "metadata": {},
   "outputs": [
    {
     "name": "stdout",
     "output_type": "stream",
     "text": [
      "Enter a Charecter: N\n",
      "Ascii value of N is 78\n"
     ]
    }
   ],
   "source": [
    "str = input(\"Enter a Charecter: \")\n",
    "print(f'Ascii value of {str} is', ord(str))"
   ]
  },
  {
   "cell_type": "markdown",
   "id": "134dea22",
   "metadata": {},
   "source": [
    "### 5.\tWrite a Python Program to Make a Simple Calculator with 4 basic mathematical operations?"
   ]
  },
  {
   "cell_type": "code",
   "execution_count": 55,
   "id": "6aac2ff9",
   "metadata": {},
   "outputs": [],
   "source": [
    "def calculator():\n",
    "    n1 = int(input('Enter first number: '))\n",
    "    n2 = int(input('Enter second number: '))\n",
    "    \n",
    "    calculate = input('Enter + for Addition : \\nEnter - for Substraction : \\nEnter * for Multiplication : \\nEnter / for Division: ')\n",
    "    \n",
    "    add = n1 + n2\n",
    "    sub = n1 - n2\n",
    "    mul = n1 * n2\n",
    "    div = n1 / n2\n",
    "    \n",
    "    if calculate == \"+\":\n",
    "        print(f'Sum of {n1} and {n2} is {add}')\n",
    "    elif calculate == \"-\":\n",
    "        print(f'Substraction of {n1} and {n2} is {sub}')\n",
    "    elif calculate == \"*\":\n",
    "        print(f'Multiplication of {n1} and {n2} is {mul}')\n",
    "    elif calculate == \"/\":\n",
    "        print(f'Division of {n1} and {n2} is {div}')\n",
    "    else:\n",
    "        print('Invalid Input')"
   ]
  },
  {
   "cell_type": "code",
   "execution_count": 56,
   "id": "f2904fac",
   "metadata": {},
   "outputs": [
    {
     "name": "stdout",
     "output_type": "stream",
     "text": [
      "Enter first number: 5\n",
      "Enter second number: 8\n",
      "Enter + for Addition: \n",
      "Enter - for Substraction: \n",
      "Enter * for Multiplication: \n",
      "Enter / for Division: /\n",
      "Division of 5 and 8 is 0.625\n"
     ]
    }
   ],
   "source": [
    "calculator()"
   ]
  },
  {
   "cell_type": "code",
   "execution_count": null,
   "id": "50a00e99",
   "metadata": {},
   "outputs": [],
   "source": []
  }
 ],
 "metadata": {
  "kernelspec": {
   "display_name": "Python 3",
   "language": "python",
   "name": "python3"
  },
  "language_info": {
   "codemirror_mode": {
    "name": "ipython",
    "version": 3
   },
   "file_extension": ".py",
   "mimetype": "text/x-python",
   "name": "python",
   "nbconvert_exporter": "python",
   "pygments_lexer": "ipython3",
   "version": "3.8.8"
  }
 },
 "nbformat": 4,
 "nbformat_minor": 5
}
