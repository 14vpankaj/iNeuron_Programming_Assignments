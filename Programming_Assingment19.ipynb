{
 "cells": [
  {
   "cell_type": "markdown",
   "id": "c3d84456",
   "metadata": {},
   "source": [
    "### Question1\n",
    "\n",
    "Create a function that takes a string and returns a string in which each character is repeated once. Examples\n",
    "\n",
    "double_char(\"String\") ➞ \"SSttrriinngg\"\n",
    "\n",
    "double_char(\"Hello World!\") ➞ \"HHeelllloo  WWoorrlldd!!\"\n",
    "\n",
    "double_char(\"1234!_ \") ➞ \"11223344!!__  \"\n"
   ]
  },
  {
   "cell_type": "code",
   "execution_count": 6,
   "id": "ea11096c",
   "metadata": {},
   "outputs": [
    {
     "name": "stdout",
     "output_type": "stream",
     "text": [
      "SSttrriinngg\n",
      "HHeelllloo  WWoorrlldd!!\n",
      "11223344!!__  \n"
     ]
    }
   ],
   "source": [
    "def double_char(str):\n",
    "    return ''.join([i*2 for i in str])\n",
    "print(double_char(\"String\"))\n",
    "print(double_char(\"Hello World!\"))\n",
    "print(double_char(\"1234!_ \"))"
   ]
  },
  {
   "cell_type": "markdown",
   "id": "8ab73bc1",
   "metadata": {},
   "source": [
    "### Question2\n",
    "\n",
    "Create a function that reverses a boolean value and returns the string \"boolean expected\" if another variable type is given. Examples\n",
    "\n",
    "reverse(True) ➞ False\n",
    "\n",
    "reverse(False) ➞ True\n",
    "\n",
    "reverse(0) ➞ \"boolean expected\"\n",
    "\n",
    "reverse(None) ➞ \"boolean expected\"\n"
   ]
  },
  {
   "cell_type": "code",
   "execution_count": 11,
   "id": "c811496a",
   "metadata": {},
   "outputs": [
    {
     "name": "stdout",
     "output_type": "stream",
     "text": [
      "False\n",
      "True\n",
      "boolean expected\n",
      "boolean expected\n"
     ]
    }
   ],
   "source": [
    "def reverse(arg=None):\n",
    "    return not arg if type(arg) == bool else \"boolean expected\"\n",
    "\n",
    "print(reverse(True)) # False\n",
    "print(reverse(False)) # True\n",
    "print(reverse(0)) # \"boolean expected\"\n",
    "print(reverse(None)) # \"boolean expected\""
   ]
  },
  {
   "cell_type": "markdown",
   "id": "742def45",
   "metadata": {},
   "source": [
    "### Question3\n",
    "\n",
    "Create a function that returns the thickness (in meters) of a piece of paper after folding it n number of times. The paper starts off with a thickness of 0.5mm. Examples\n",
    "\n",
    "num_layers(1) ➞ \"0.001m\"\n",
    "\n",
    "Paper folded once is 1mm (equal to 0.001m)\n",
    "\n",
    "num_layers(4) ➞ \"0.008m\"\n",
    "\n",
    "Paper folded 4 times is 8mm (equal to 0.008m)\n",
    "\n",
    "num_layers(21) ➞ \"1048.576m\"\n",
    "\n",
    "Paper folded 21 times is 1048576mm (equal to 1048.576m)"
   ]
  },
  {
   "cell_type": "code",
   "execution_count": 12,
   "id": "0274b8d7",
   "metadata": {},
   "outputs": [
    {
     "name": "stdout",
     "output_type": "stream",
     "text": [
      "Paper folded 21 times is 1048576mm (equal to 1048.576m)\n"
     ]
    }
   ],
   "source": [
    "def num_layers(n):\n",
    "    sum_mm, sum_m = 0.5, 0.0005\n",
    "    for i in range(n):\n",
    "        sum_mm *= 2\n",
    "        sum_m *= 2\n",
    "    print(f\"Paper folded {n} times is {str(round(sum_mm))+'mm'} (equal to {str(sum_m)+'m'})\")\n",
    "\n",
    "num_layers(21)"
   ]
  },
  {
   "cell_type": "markdown",
   "id": "24edec71",
   "metadata": {},
   "source": [
    "### Question4\n",
    "\n",
    "Create a function that takes a single string as argument and returns an ordered list containing the indices of all capital letters in the string. Examples\n",
    "\n",
    "index_of_caps(\"eDaBiT\") ➞ [1, 3, 5]\n",
    "\n",
    "index_of_caps(\"eQuINoX\") ➞ [1, 3, 4, 6]\n",
    "\n",
    "index_of_caps(\"determine\") ➞ []\n",
    "\n",
    "index_of_caps(\"STRIKE\") ➞ [0, 1, 2, 3, 4, 5]\n",
    "\n",
    "index_of_caps(\"sUn\") ➞ [1]"
   ]
  },
  {
   "cell_type": "code",
   "execution_count": 14,
   "id": "81e070c7",
   "metadata": {},
   "outputs": [
    {
     "name": "stdout",
     "output_type": "stream",
     "text": [
      "[1, 3, 5]\n",
      "[1, 3, 4, 6]\n",
      "[]\n",
      "[0, 1, 2, 3, 4, 5]\n",
      "[1]\n"
     ]
    }
   ],
   "source": [
    "def index_of_caps(str):\n",
    "    indexes = []\n",
    "    for i in range(len(str)):\n",
    "        if str[i].isupper():\n",
    "            indexes.append(i)\n",
    "    return indexes\n",
    "\n",
    "print(index_of_caps('eDaBiT'))\n",
    "print(index_of_caps('eQuINoX')) \n",
    "print(index_of_caps('determine'))\n",
    "print(index_of_caps('STRIKE'))\n",
    "print(index_of_caps('sUn'))"
   ]
  },
  {
   "cell_type": "markdown",
   "id": "05dee5db",
   "metadata": {},
   "source": [
    "### Question5\n",
    "\n",
    "Using list comprehensions, create a function that finds all even numbers from 1 to the given number. Examples\n",
    "\n",
    "find_even_nums(8) ➞ [2, 4, 6, 8]\n",
    "\n",
    "find_even_nums(4) ➞ [2, 4]\n",
    "\n",
    "find_even_nums(2) ➞ [2]"
   ]
  },
  {
   "cell_type": "code",
   "execution_count": 20,
   "id": "b6487cd5",
   "metadata": {},
   "outputs": [
    {
     "name": "stdout",
     "output_type": "stream",
     "text": [
      "[2, 4, 6, 8]\n",
      "[2, 4]\n",
      "[2]\n"
     ]
    }
   ],
   "source": [
    "def find_even_nums(n):\n",
    "    even = [i for i in range(1,n+1) if i%2 == 0]\n",
    "    return even\n",
    "\n",
    "print(find_even_nums(8))\n",
    "print(find_even_nums(4))\n",
    "print(find_even_nums(2))"
   ]
  },
  {
   "cell_type": "code",
   "execution_count": null,
   "id": "4b1a7fa8",
   "metadata": {},
   "outputs": [],
   "source": []
  }
 ],
 "metadata": {
  "kernelspec": {
   "display_name": "Python 3",
   "language": "python",
   "name": "python3"
  },
  "language_info": {
   "codemirror_mode": {
    "name": "ipython",
    "version": 3
   },
   "file_extension": ".py",
   "mimetype": "text/x-python",
   "name": "python",
   "nbconvert_exporter": "python",
   "pygments_lexer": "ipython3",
   "version": "3.8.8"
  }
 },
 "nbformat": 4,
 "nbformat_minor": 5
}
