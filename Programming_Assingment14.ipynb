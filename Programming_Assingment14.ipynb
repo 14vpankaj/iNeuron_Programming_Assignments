{
 "cells": [
  {
   "cell_type": "markdown",
   "id": "a6f765c1",
   "metadata": {},
   "source": [
    "### Question 1:\n",
    "\n",
    "Define a class with a generator which can iterate the numbers, which are divisible by 7, between a given range 0 and n.\n"
   ]
  },
  {
   "cell_type": "code",
   "execution_count": 2,
   "id": "590fe7b9",
   "metadata": {},
   "outputs": [
    {
     "name": "stdout",
     "output_type": "stream",
     "text": [
      "Enter a range: 86\n",
      "0 7 14 21 28 35 42 49 56 63 70 77 84 "
     ]
    }
   ],
   "source": [
    "def gen(n):\n",
    "    for i in range(n):\n",
    "        if i%7 == 0:\n",
    "            yield i\n",
    "\n",
    "n = int(input('Enter a range: '))\n",
    "for i in gen(n):\n",
    "    print(i, end=' ')"
   ]
  },
  {
   "cell_type": "markdown",
   "id": "6fd9eff4",
   "metadata": {},
   "source": [
    "### Question 2:\n",
    "\n",
    "Write a program to compute the frequency of the words from the input. The output should output after sorting the key alphanumerically. \n",
    "\n",
    "Suppose the following input is supplied to the program:\n",
    "\n",
    "New to Python or choosing between Python 2 and Python 3? Read Python 2 or Python 3.\n",
    "\n",
    "Then, the output should be:\n",
    "\n",
    "2:2\n",
    "\n",
    "3.:1\n",
    "\n",
    "3?:1\n",
    "\n",
    "New:1\n",
    "\n",
    "Python:5\n",
    "\n",
    "Read:1\n",
    "\n",
    "and:1\n",
    "\n",
    "between:1\n",
    "\n",
    "choosing:1\n",
    "\n",
    "or:2\n",
    "\n",
    "to:1\n"
   ]
  },
  {
   "cell_type": "code",
   "execution_count": 9,
   "id": "95738a82",
   "metadata": {},
   "outputs": [
    {
     "name": "stdout",
     "output_type": "stream",
     "text": [
      "2:2\n",
      "3.:1\n",
      "3?:1\n",
      "New:1\n",
      "Python:5\n",
      "Read:1\n",
      "and:1\n",
      "between:1\n",
      "choosing:1\n",
      "or:2\n",
      "to:1\n"
     ]
    }
   ],
   "source": [
    "def frequency(string):\n",
    "    word = sorted(set(string.split()))\n",
    "    for i in word:\n",
    "        print(f'{i}:{string.count(i)}')\n",
    "\n",
    "frequency(\"New to Python or choosing between Python 2 and Python 3? Read Python 2 or Python 3.\")"
   ]
  },
  {
   "cell_type": "markdown",
   "id": "286b120a",
   "metadata": {},
   "source": [
    "### Question 3:\n",
    "\n",
    "\n",
    "\n",
    "Define a class Person and its two child classes: Male and Female. All classes have a method \"getGender\" which can print \"Male\" for Male class and \"Female\" for Female class.\n"
   ]
  },
  {
   "cell_type": "code",
   "execution_count": 10,
   "id": "a6c74b51",
   "metadata": {},
   "outputs": [
    {
     "name": "stdout",
     "output_type": "stream",
     "text": [
      "Male\n",
      "Female\n"
     ]
    }
   ],
   "source": [
    "class Person:\n",
    "    def __init__(self):\n",
    "        pass\n",
    "    def getGender(self):\n",
    "        return 'This is a parent class.'\n",
    "\n",
    "class Male:\n",
    "    def __inti__(self):\n",
    "        pass\n",
    "    def getGender(self):\n",
    "        return 'Male'\n",
    "    \n",
    "class Female:\n",
    "    def __inti__(self):\n",
    "        pass\n",
    "    def getGender(self):\n",
    "        return 'Female'\n",
    "    \n",
    "objMale = Male()\n",
    "objFemale= Female()\n",
    "print(objMale.getGender())\n",
    "print(objFemale.getGender())"
   ]
  },
  {
   "cell_type": "markdown",
   "id": "8bb326aa",
   "metadata": {},
   "source": [
    "### Question 4:\n",
    "Please write a program to generate all sentences where subject is in [\"I\", \"You\"] and verb is in [\"Play\", \"Love\"] and the object is in [\"Hockey\",\"Football\"].\n"
   ]
  },
  {
   "cell_type": "code",
   "execution_count": 12,
   "id": "7aba09b9",
   "metadata": {},
   "outputs": [
    {
     "name": "stdout",
     "output_type": "stream",
     "text": [
      "I Play Hockey\n",
      "I Play Football\n",
      "I Love Hockey\n",
      "I Love Football\n",
      "You Play Hockey\n",
      "You Play Football\n",
      "You Love Hockey\n",
      "You Love Football\n"
     ]
    }
   ],
   "source": [
    "subject = [\"I\", \"You\"]\n",
    "verb = [\"Play\", \"Love\"]\n",
    "object =[\"Hockey\",\"Football\"]\n",
    "\n",
    "sentences = [(sub + ' ' + vb + ' ' + ob) for sub in subject for vb in verb for ob in object]\n",
    "\n",
    "for sen in sentences:\n",
    "    print(sen)"
   ]
  },
  {
   "cell_type": "markdown",
   "id": "e574f33c",
   "metadata": {},
   "source": [
    "### Question 5:\n",
    "Please write a program to compress and decompress the string \"hello world!hello world!hello world!hello world!\".\n"
   ]
  },
  {
   "cell_type": "code",
   "execution_count": 2,
   "id": "45ce526f",
   "metadata": {},
   "outputs": [
    {
     "name": "stdout",
     "output_type": "stream",
     "text": [
      "b'\\x1f\\x8b\\x08\\x00\\x01D\\xf4a\\x02\\xff\\xcbH\\xcd\\xc9\\xc9W(\\xcf/\\xcaIQ\\xcc \\x82\\r\\x00\\xd3\\xe6\\xcf\\xae0\\x00\\x00\\x00'\n",
      "b'hello world!hello world!hello world!hello world!'\n"
     ]
    }
   ],
   "source": [
    "import gzip\n",
    "s = 'hello world!hello world!hello world!hello world!'\n",
    "\n",
    "# In Python 3 zlib.compress() accepts only DataType <bytes>\n",
    "\n",
    "y = bytes(s, 'utf-8')\n",
    "x = gzip.compress(y)\n",
    "\n",
    "print(x)\n",
    "print(gzip.decompress(x))"
   ]
  },
  {
   "cell_type": "markdown",
   "id": "b968c43c",
   "metadata": {},
   "source": [
    "### Question 6:\n",
    "Please write a binary search function which searches an item in a sorted list. The function should return the index of element to be searched in the list.\n"
   ]
  },
  {
   "cell_type": "code",
   "execution_count": 5,
   "id": "7c0264fb",
   "metadata": {},
   "outputs": [
    {
     "name": "stdout",
     "output_type": "stream",
     "text": [
      "Enter the number to search: 86\n",
      "86 is present at 9\n"
     ]
    }
   ],
   "source": [
    "list = [5,14,23,32,41,50,68,77,86,104]\n",
    "\n",
    "pos = -1\n",
    "\n",
    "def search(list, n):\n",
    "    l = 0\n",
    "    u = len(list) - 1\n",
    "    \n",
    "    while l <= u:\n",
    "        mid = (l+u)//2\n",
    "        if list[mid] == n:\n",
    "            globals()['pos'] = mid\n",
    "            return True\n",
    "        else:\n",
    "            if list[mid] < n:\n",
    "                l = mid + 1\n",
    "            else:\n",
    "                u = mid - 1\n",
    "    return False\n",
    "\n",
    "n = int(input('Enter the number to search: '))\n",
    "\n",
    "if search(list,n):\n",
    "    print(f'{n} is present at {pos+1}')\n",
    "else:\n",
    "    print('Not Found')"
   ]
  },
  {
   "cell_type": "code",
   "execution_count": null,
   "id": "4065a77d",
   "metadata": {},
   "outputs": [],
   "source": []
  }
 ],
 "metadata": {
  "kernelspec": {
   "display_name": "Python 3",
   "language": "python",
   "name": "python3"
  },
  "language_info": {
   "codemirror_mode": {
    "name": "ipython",
    "version": 3
   },
   "file_extension": ".py",
   "mimetype": "text/x-python",
   "name": "python",
   "nbconvert_exporter": "python",
   "pygments_lexer": "ipython3",
   "version": "3.8.8"
  }
 },
 "nbformat": 4,
 "nbformat_minor": 5
}
