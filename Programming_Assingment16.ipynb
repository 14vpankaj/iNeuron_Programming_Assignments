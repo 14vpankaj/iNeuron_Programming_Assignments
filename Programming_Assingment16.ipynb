{
 "cells": [
  {
   "cell_type": "markdown",
   "id": "93dce9d6",
   "metadata": {},
   "source": [
    "### Question1. Write a function that stutters a word as if someone is struggling to read it. The first two letters are repeated twice with an ellipsis ... and space after each, and then the word is pronounced with a question mark ?.\n",
    "\n",
    "Examples\n",
    "\n",
    "stutter(\"incredible\") ➞ \"in... in... incredible?\"\n",
    "\n",
    "stutter(\"enthusiastic\") ➞ \"en... en... enthusiastic?\"\n",
    "\n",
    "stutter(\"outstanding\") ➞ \"ou... ou... outstanding?\"\n",
    "\n",
    "Hint :- Assume all input is in lower case and at least two characters long.\n"
   ]
  },
  {
   "cell_type": "code",
   "execution_count": 7,
   "id": "07b3ad6e",
   "metadata": {},
   "outputs": [
    {
     "name": "stdout",
     "output_type": "stream",
     "text": [
      "Enter the word: Incredible\n",
      "in... in... incredible?\n"
     ]
    }
   ],
   "source": [
    "def stutter(str):\n",
    "    return (2*(str[:2]+'... '))+str+'?'\n",
    "\n",
    "str = input('Enter the word: ').lower()\n",
    "print(stutter(str))        "
   ]
  },
  {
   "cell_type": "markdown",
   "id": "9538b52c",
   "metadata": {},
   "source": [
    "### Question 2.Create a function that takes an angle in radians and returns the corresponding angle in degrees rounded to one decimal place.\n",
    "Examples\n",
    "radians_to_degrees(1) ➞ 57.3\n",
    "\n",
    "radians_to_degrees(20) ➞ 1145.9\n",
    "\n",
    "radians_to_degrees(50) ➞ 2864.8\n"
   ]
  },
  {
   "cell_type": "code",
   "execution_count": 20,
   "id": "84683f48",
   "metadata": {},
   "outputs": [
    {
     "name": "stdout",
     "output_type": "stream",
     "text": [
      "Enter the value of an angle in radian: 20\n",
      "The value of angle 20 in degrees is: 1145.9\n"
     ]
    }
   ],
   "source": [
    "import math\n",
    "def radians_to_degrees(radian):\n",
    "    degree = round(radian*(180/math.pi),1)\n",
    "    return degree\n",
    "\n",
    "radian = int(input('Enter the value of an angle in radian: '))\n",
    "print(f'The value of angle {radian} in degrees is: {radians_to_degrees(radian)}')    "
   ]
  },
  {
   "cell_type": "markdown",
   "id": "9ce820f8",
   "metadata": {},
   "source": [
    "### Question 3. \n",
    "\n",
    "In this challenge, establish if a given integer num is a Curzon number. If 1 plus 2 elevated to num is exactly divisible by 1 plus 2 multiplied by num, then num is a Curzon number.\n",
    "Given a non-negative integer num, implement a function that returns True if num is a Curzon number, or False otherwise.\n",
    "\n",
    "Examples\n",
    "\n",
    "is_curzon(5) ➞ True\n",
    "\n",
    "2 ** 5 + 1 = 33\n",
    "\n",
    "2 * 5 + 1 = 11\n",
    "\n",
    "33 is a multiple of 11\n",
    "\n",
    "is_curzon(10) ➞ False\n",
    "\n",
    "2 ** 10 + 1 = 1025\n",
    "\n",
    "2 * 10 + 1 = 21\n",
    "\n",
    "1025 is not a multiple of 21\n",
    "\n",
    "is_curzon(14) ➞ True\n",
    "\n",
    "2 ** 14 + 1 = 16385\n",
    "\n",
    "2 * 14 + 1 = 29\n",
    "\n",
    "16385 is a multiple of 29"
   ]
  },
  {
   "cell_type": "code",
   "execution_count": 8,
   "id": "24194775",
   "metadata": {},
   "outputs": [
    {
     "name": "stdout",
     "output_type": "stream",
     "text": [
      "Pleae enter a non-negative interger: 14\n",
      "16385 is multiple of 29\n"
     ]
    }
   ],
   "source": [
    "def is_curzon(n):\n",
    "    if num1%num2 == 0:\n",
    "        return True\n",
    "    else:\n",
    "        return False \n",
    "\n",
    "n = int(input('Pleae enter a non-negative interger: '))\n",
    "\n",
    "num1 = 2**n + 1\n",
    "num2 = 2*n + 1   \n",
    "    \n",
    "if is_curzon(n) is True:\n",
    "    print(f'{num1} is multiple of {num2}')\n",
    "else:\n",
    "    print(f'{num1} is not multiple of {num2}')\n",
    "        "
   ]
  },
  {
   "attachments": {
    "hexagon.jpg": {
     "image/jpeg": "[encoded data removed]"
    }
   },
   "cell_type": "markdown",
   "id": "2b51476d",
   "metadata": {},
   "source": [
    "### Question 4. Given the side length x find the area of a hexagon.\n",
    "\n",
    "![hexagon.jpg](attachment:hexagon.jpg) Examples\n",
    "\n",
    "area_of_hexagon(1) ➞ 2.6\n",
    "\n",
    "area_of_hexagon(2) ➞ 10.4\n",
    "\n",
    "area_of_hexagon(3) ➞ 23.4\n"
   ]
  },
  {
   "cell_type": "code",
   "execution_count": 15,
   "id": "960266bb",
   "metadata": {},
   "outputs": [
    {
     "name": "stdout",
     "output_type": "stream",
     "text": [
      "Please enter the side of the hexagon: 2\n",
      "10.4\n"
     ]
    }
   ],
   "source": [
    "def area_of_hexagon(x):\n",
    "    area = (3*(math.sqrt(3)*(x**2)))/2\n",
    "    return round(area,1)\n",
    "\n",
    "x = int(input('Please enter the side of the hexagon: '))\n",
    "print(area_of_hexagon(x))"
   ]
  },
  {
   "cell_type": "markdown",
   "id": "c37f7608",
   "metadata": {},
   "source": [
    "### Question 5.\n",
    "\n",
    "Create a function that returns a base-2 (binary) representation of a base-10 (decimal) string number. To convert is simple: ((2) means base-2 and (10) means base-10) 010101001(2) = 1 + 8 + 32 + 128.\n",
    "Going from right to left, the value of the most right bit is 1, now from that every bit to the left will be x2 the value, value of an 8 bit binary numbers are (256, 128, 64, 32, 16, 8, 4, 2, 1).\n",
    "Examples\n",
    "\n",
    "binary(1) ➞ \"1\"\n",
    "\n",
    "1*1 = 1\n",
    "\n",
    "binary(5) ➞ \"101\"\n",
    "\n",
    "1*1 + 1*4 = 5\n",
    "\n",
    "binary(10) ➞ \"1010\"\n",
    "\n",
    "1*2 + 1*8 = 10"
   ]
  },
  {
   "cell_type": "code",
   "execution_count": 18,
   "id": "4df1e11c",
   "metadata": {},
   "outputs": [
    {
     "name": "stdout",
     "output_type": "stream",
     "text": [
      "0\n",
      "1\n",
      "10\n",
      "11\n",
      "100\n",
      "101\n",
      "110\n",
      "111\n",
      "1000\n",
      "1001\n",
      "1010\n",
      "1011\n",
      "1100\n",
      "1101\n",
      "1110\n",
      "1111\n",
      "10000\n",
      "10001\n",
      "10010\n",
      "10011\n",
      "10100\n",
      "10101\n",
      "10110\n",
      "10111\n",
      "11000\n",
      "11001\n",
      "11010\n",
      "11011\n",
      "11100\n",
      "11101\n",
      "11110\n",
      "11111\n",
      "100000\n",
      "100001\n",
      "100010\n",
      "100011\n",
      "100100\n",
      "100101\n",
      "100110\n",
      "100111\n",
      "101000\n",
      "101001\n",
      "101010\n",
      "101011\n",
      "101100\n",
      "101101\n",
      "101110\n",
      "101111\n",
      "110000\n",
      "110001\n",
      "110010\n"
     ]
    }
   ],
   "source": [
    "def binary(n):\n",
    "    return bin(n).replace('0b', '')\n",
    "\n",
    "for i in range(0,51):\n",
    "    print(binary(i))"
   ]
  },
  {
   "cell_type": "code",
   "execution_count": null,
   "id": "6dd0efaa",
   "metadata": {},
   "outputs": [],
   "source": []
  }
 ],
 "metadata": {
  "kernelspec": {
   "display_name": "Python 3",
   "language": "python",
   "name": "python3"
  },
  "language_info": {
   "codemirror_mode": {
    "name": "ipython",
    "version": 3
   },
   "file_extension": ".py",
   "mimetype": "text/x-python",
   "name": "python",
   "nbconvert_exporter": "python",
   "pygments_lexer": "ipython3",
   "version": "3.8.8"
  }
 },
 "nbformat": 4,
 "nbformat_minor": 5
}
