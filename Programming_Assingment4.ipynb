{
 "cells": [
  {
   "cell_type": "markdown",
   "id": "b434e16d",
   "metadata": {},
   "source": [
    "### 1.\tWrite a Python Program to Find the Factorial of a Number?"
   ]
  },
  {
   "cell_type": "code",
   "execution_count": 33,
   "id": "39477add",
   "metadata": {},
   "outputs": [],
   "source": [
    "def factorial():\n",
    "    n = int(input('Enter a number: '))\n",
    "    f = 1\n",
    "    if n < 0:\n",
    "        print('Pleae enter a positive number')\n",
    "    elif n == 0:\n",
    "        print('Factorial of zero is 1')\n",
    "    else:\n",
    "        for i in range(1,n+1):\n",
    "            f = f*i\n",
    "        print(f'Factorial of {n} is {f}')"
   ]
  },
  {
   "cell_type": "code",
   "execution_count": 34,
   "id": "2f9e1a96",
   "metadata": {},
   "outputs": [
    {
     "name": "stdout",
     "output_type": "stream",
     "text": [
      "Enter a number: 5\n",
      "Factorial of 5 is 120\n"
     ]
    }
   ],
   "source": [
    "factorial()"
   ]
  },
  {
   "cell_type": "markdown",
   "id": "1bca2a82",
   "metadata": {},
   "source": [
    "## 2.\tWrite a Python Program to Display the multiplication Table?"
   ]
  },
  {
   "cell_type": "code",
   "execution_count": 54,
   "id": "e9957ca2",
   "metadata": {},
   "outputs": [
    {
     "name": "stdout",
     "output_type": "stream",
     "text": [
      "Enter the number to display the multiplication Table: 14\n",
      "14 X 1 = 14\n",
      "14 X 2 = 28\n",
      "14 X 3 = 42\n",
      "14 X 4 = 56\n",
      "14 X 5 = 70\n",
      "14 X 6 = 84\n",
      "14 X 7 = 98\n",
      "14 X 8 = 112\n",
      "14 X 9 = 126\n",
      "14 X 10 = 140\n"
     ]
    }
   ],
   "source": [
    "n = int(input('Enter the number to display the multiplication Table: '))\n",
    "\n",
    "for i in range(1,11):\n",
    "    print(f'{n} X {i} = {n*i}')"
   ]
  },
  {
   "cell_type": "markdown",
   "id": "a353de3f",
   "metadata": {},
   "source": [
    "### 3.\tWrite a Python Program to Print the Fibonacci sequence?"
   ]
  },
  {
   "cell_type": "code",
   "execution_count": 88,
   "id": "da8f1add",
   "metadata": {},
   "outputs": [],
   "source": [
    "# Fibonacci numbers: 0, 1, 1, 2, 3, 5, 8, 13, 21 and so on. \n",
    "\n",
    "def fibonacci():\n",
    "    a, b = 0, 1\n",
    "    n = int(input('Enter the number to print the Fibonacci sequence: '))\n",
    "    if n <= 0:\n",
    "        print(\"Please enter positive value\")\n",
    "    elif n == 1:\n",
    "        print(a)\n",
    "    else:\n",
    "        i = 0\n",
    "        while i < n:\n",
    "            print(a, end=', ')\n",
    "            c = a + b\n",
    "            a, b = b, c\n",
    "            i += 1"
   ]
  },
  {
   "cell_type": "code",
   "execution_count": 89,
   "id": "f324bb70",
   "metadata": {},
   "outputs": [
    {
     "name": "stdout",
     "output_type": "stream",
     "text": [
      "Enter the number to print the Fibonacci sequence: 9\n",
      "0, 1, 1, 2, 3, 5, 8, 13, 21, "
     ]
    }
   ],
   "source": [
    "fibonacci()"
   ]
  },
  {
   "cell_type": "markdown",
   "id": "a655d294",
   "metadata": {},
   "source": [
    "### 4.\tWrite a Python Program to Check Armstrong Number?"
   ]
  },
  {
   "cell_type": "markdown",
   "id": "ef3a2c00",
   "metadata": {},
   "source": [
    "An Armstrong number of three digits is an integer such that the sum of the cubes of its digits is equal to the number itself.\n",
    "\n",
    "For example, 371 is an Armstrong number since 3x3x3 + 7x7x7 + 1x1x1 = 371."
   ]
  },
  {
   "cell_type": "code",
   "execution_count": 100,
   "id": "c148766e",
   "metadata": {},
   "outputs": [
    {
     "name": "stdout",
     "output_type": "stream",
     "text": [
      "Enter a number: 153\n",
      "153 is a Armstrong Number\n"
     ]
    }
   ],
   "source": [
    "n = int(input('Enter a number: '))\n",
    "order = len(str(n))\n",
    "temp = n\n",
    "sum = 0\n",
    "\n",
    "while n > 0:\n",
    "    digit = n%10\n",
    "    sum += digit ** order\n",
    "    n = n//10\n",
    "if sum == temp:\n",
    "    print(f'{temp} is a Armstrong Number')\n",
    "else:\n",
    "    print(f'{temp} is not a Armstrong Number')\n",
    "    "
   ]
  },
  {
   "cell_type": "markdown",
   "id": "608d8ffe",
   "metadata": {},
   "source": [
    "### 5.\tWrite a Python Program to Find Armstrong Number in an Interval?"
   ]
  },
  {
   "cell_type": "code",
   "execution_count": 131,
   "id": "dd07ccce",
   "metadata": {},
   "outputs": [
    {
     "name": "stdout",
     "output_type": "stream",
     "text": [
      "153\n",
      "370\n",
      "371\n",
      "407\n",
      "1634\n",
      "8208\n",
      "9474\n",
      "54748\n",
      "92727\n",
      "93084\n"
     ]
    }
   ],
   "source": [
    "for n in range(100,100000):\n",
    "    order = len(str(n))\n",
    "    temp = n\n",
    "    sum = 0\n",
    "    while n > 0:\n",
    "        digit = n%10\n",
    "        sum += digit** order\n",
    "        n = n//10\n",
    "    if sum == temp:\n",
    "        print(temp)"
   ]
  },
  {
   "cell_type": "markdown",
   "id": "5415a0f0",
   "metadata": {},
   "source": [
    "### 6.\tWrite a Python Program to Find the Sum of Natural Numbers?"
   ]
  },
  {
   "cell_type": "code",
   "execution_count": 143,
   "id": "10749d03",
   "metadata": {},
   "outputs": [
    {
     "name": "stdout",
     "output_type": "stream",
     "text": [
      "Enter the number50\n",
      "Sum of 50 Natural Numbers is 1275\n"
     ]
    }
   ],
   "source": [
    "n = int(input('Enter the number'))\n",
    "\n",
    "sum = 0\n",
    "for i in range(0,n+1):\n",
    "    sum += i\n",
    "print(f'Sum of {n} Natural Numbers is {sum}')"
   ]
  },
  {
   "cell_type": "code",
   "execution_count": null,
   "id": "2288d1d1",
   "metadata": {},
   "outputs": [],
   "source": []
  },
  {
   "cell_type": "code",
   "execution_count": null,
   "id": "3b94db32",
   "metadata": {},
   "outputs": [],
   "source": []
  }
 ],
 "metadata": {
  "kernelspec": {
   "display_name": "Python 3",
   "language": "python",
   "name": "python3"
  },
  "language_info": {
   "codemirror_mode": {
    "name": "ipython",
    "version": 3
   },
   "file_extension": ".py",
   "mimetype": "text/x-python",
   "name": "python",
   "nbconvert_exporter": "python",
   "pygments_lexer": "ipython3",
   "version": "3.8.8"
  }
 },
 "nbformat": 4,
 "nbformat_minor": 5
}
