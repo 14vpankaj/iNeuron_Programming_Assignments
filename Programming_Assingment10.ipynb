{
 "cells": [
  {
   "cell_type": "markdown",
   "id": "80616d80",
   "metadata": {},
   "source": [
    "### 1.\tWrite a Python program to find sum of elements in list?"
   ]
  },
  {
   "cell_type": "code",
   "execution_count": 14,
   "id": "4ad7edff",
   "metadata": {},
   "outputs": [
    {
     "name": "stdout",
     "output_type": "stream",
     "text": [
      "Elements in list: [1, 2, 3, 4, 5, 6, 7, 8, 9, 10, 11, 12, 13, 14, 15, 16, 17, 18, 19]\n",
      "Sum of elements in list is 190\n"
     ]
    }
   ],
   "source": [
    "list = [i for i in range(1,20)]\n",
    "print(f\"Elements in list: {list}\")\n",
    "sum = 0\n",
    "for i in list:\n",
    "    sum += i\n",
    "print(f\"Sum of elements in list is {sum}\")"
   ]
  },
  {
   "cell_type": "markdown",
   "id": "55e698e1",
   "metadata": {},
   "source": [
    "#### Soution 2"
   ]
  },
  {
   "cell_type": "code",
   "execution_count": 1,
   "id": "dfc0d9bb",
   "metadata": {},
   "outputs": [
    {
     "name": "stdout",
     "output_type": "stream",
     "text": [
      "Enter the length of list: 8\n",
      "23\n",
      "20\n",
      "50\n",
      "86\n",
      "68\n",
      "35\n",
      "53\n",
      "14\n",
      "Elements in list: [23, 20, 50, 86, 68, 35, 53, 14]\n",
      "Sum of elements in list is 349\n"
     ]
    }
   ],
   "source": [
    "n = int(input('Enter the length of list: '))\n",
    "list = []\n",
    "\n",
    "for i in range(n):\n",
    "    list.append(int(input()))\n",
    "print(f\"Elements in list: {list}\")\n",
    "print('Sum of elements in list is', sum(list))    "
   ]
  },
  {
   "cell_type": "markdown",
   "id": "d0bb2051",
   "metadata": {},
   "source": [
    "### 2.\tWrite a Python program to  Multiply all numbers in the list?"
   ]
  },
  {
   "cell_type": "code",
   "execution_count": 7,
   "id": "3b0da622",
   "metadata": {},
   "outputs": [
    {
     "name": "stdout",
     "output_type": "stream",
     "text": [
      "Elements is list: [1, 2, 3, 4, 5, 6, 7, 8, 9, 10, 11, 12, 13, 14]\n",
      "Multiplication of elements in list is 87178291200\n"
     ]
    }
   ],
   "source": [
    "list = [i for i in range(1,15)]\n",
    "print(f\"Elements is list: {list}\")\n",
    "\n",
    "mul = 1 \n",
    "\n",
    "for i in list:\n",
    "    mul *= i\n",
    "print(f\"Multiplication of elements in list is {mul}\")    "
   ]
  },
  {
   "cell_type": "markdown",
   "id": "25fdd2f7",
   "metadata": {},
   "source": [
    "### 3.\tWrite a Python program to find smallest number in a list?"
   ]
  },
  {
   "cell_type": "code",
   "execution_count": 12,
   "id": "5cbf5633",
   "metadata": {},
   "outputs": [
    {
     "name": "stdout",
     "output_type": "stream",
     "text": [
      "Enter the length of list: 5\n",
      "65\n",
      "85\n",
      "35\n",
      "15\n",
      "9865\n",
      "Elements is list: [65, 85, 35, 15, 9865]\n",
      "Smalled number in a list is: 15\n"
     ]
    }
   ],
   "source": [
    "n = int(input('Enter the length of list: '))\n",
    "list = []\n",
    "\n",
    "for i in range(n):\n",
    "    list.append(int(input()))\n",
    "print(f\"Elements is list: {list}\")\n",
    "\n",
    "print(f'Smalled number in a list is: {sorted(list)[0]}')"
   ]
  },
  {
   "cell_type": "markdown",
   "id": "73c0d395",
   "metadata": {},
   "source": [
    "### 4.\tWrite a Python program to find largest number in a list?"
   ]
  },
  {
   "cell_type": "code",
   "execution_count": 14,
   "id": "b610d6b7",
   "metadata": {},
   "outputs": [
    {
     "name": "stdout",
     "output_type": "stream",
     "text": [
      "Enter the length of list: 5\n",
      "32\n",
      "5\n",
      "6\n",
      "8\n",
      "26\n",
      "Elements is list: [32, 5, 6, 8, 26]\n",
      "Largest number in a list is: 32\n"
     ]
    }
   ],
   "source": [
    "n = int(input('Enter the length of list: '))\n",
    "list = []\n",
    "\n",
    "for i in range(n):\n",
    "    list.append(int(input()))\n",
    "print(f\"Elements is list: {list}\")\n",
    "\n",
    "print(f'Largest number in a list is: {sorted(list)[-1]}')"
   ]
  },
  {
   "cell_type": "markdown",
   "id": "b89a9d81",
   "metadata": {},
   "source": [
    "### 5.\tWrite a Python program to find second largest number in a list?"
   ]
  },
  {
   "cell_type": "code",
   "execution_count": 16,
   "id": "3a7b6ac1",
   "metadata": {},
   "outputs": [
    {
     "name": "stdout",
     "output_type": "stream",
     "text": [
      "Enter the length of list: 5\n",
      "35\n",
      "56\n",
      "84\n",
      "651\n",
      "85\n",
      "Elements is list: [35, 56, 84, 651, 85]\n",
      "Largest number in a list is: 85\n"
     ]
    }
   ],
   "source": [
    "n = int(input('Enter the length of list: '))\n",
    "list = []\n",
    "\n",
    "for i in range(n):\n",
    "    list.append(int(input()))\n",
    "print(f\"Elements is list: {list}\")\n",
    "\n",
    "print(f'Largest number in a list is: {sorted(list)[-2]}')"
   ]
  },
  {
   "cell_type": "markdown",
   "id": "3f9d07f3",
   "metadata": {},
   "source": [
    "### 6.\tWrite a Python program to find N largest elements from a list?"
   ]
  },
  {
   "cell_type": "code",
   "execution_count": 5,
   "id": "5010f4f8",
   "metadata": {},
   "outputs": [
    {
     "name": "stdout",
     "output_type": "stream",
     "text": [
      "Enter the length of list: 14\n",
      "25\n",
      "65\n",
      "85\n",
      "632\n",
      "15\n",
      "56\n",
      "52\n",
      "85\n",
      "65\n",
      "75\n",
      "52\n",
      "95\n",
      "36\n",
      "48\n",
      "Elements of list: [25, 65, 85, 632, 15, 56, 52, 85, 65, 75, 52, 95, 36, 48]\n"
     ]
    }
   ],
   "source": [
    "list = []\n",
    "n = int(input('Enter the length of list: '))\n",
    "\n",
    "for i in range(n):\n",
    "    list.append(int(input()))\n",
    "print(f\"Elements of list: {list}\")"
   ]
  },
  {
   "cell_type": "code",
   "execution_count": 22,
   "id": "d628f5a8",
   "metadata": {},
   "outputs": [
    {
     "name": "stdout",
     "output_type": "stream",
     "text": [
      "Sorted list: [15, 25, 36, 48, 52, 52, 56, 65, 65, 75, 85, 85, 95, 632]\n",
      "Enter the number of largest elements from the list: 5\n",
      "5 largest number in list [15, 25, 36, 48, 52, 52, 56, 65, 65, 75, 85, 85, 95, 632] is: [75, 85, 85, 95, 632]\n"
     ]
    }
   ],
   "source": [
    "list_sort = sorted(list)\n",
    "print(f'Sorted list: {list_sort}')\n",
    "\n",
    "ele = int(input('Enter the number of largest elements from the list: '))\n",
    "\n",
    "print(f'{ele} largest number in list {list_sort} is: {list_sort[-ele:]}')"
   ]
  },
  {
   "cell_type": "markdown",
   "id": "aa547f82",
   "metadata": {},
   "source": [
    "### 7.\tWrite a Python program to print even numbers in a list?"
   ]
  },
  {
   "cell_type": "code",
   "execution_count": 34,
   "id": "1f0395a3",
   "metadata": {},
   "outputs": [
    {
     "name": "stdout",
     "output_type": "stream",
     "text": [
      "[1, 2, 3, 4, 5, 6, 7, 8, 9, 10, 11, 12, 13, 14, 15, 16, 17, 18, 19, 20, 21, 22]\n",
      "2 4 6 8 10 12 14 16 18 20 22 "
     ]
    }
   ],
   "source": [
    "list = [i for i in range(1,23)]\n",
    "print(list)\n",
    "\n",
    "def even(n):\n",
    "    for i in list:\n",
    "        if i%2 == 0:\n",
    "            print(i, end=\" \")\n",
    "even(n)"
   ]
  },
  {
   "cell_type": "markdown",
   "id": "5cbb7b38",
   "metadata": {},
   "source": [
    "### 8.\tWrite a Python program to print odd numbers in a List?"
   ]
  },
  {
   "cell_type": "code",
   "execution_count": 35,
   "id": "51006b76",
   "metadata": {},
   "outputs": [
    {
     "name": "stdout",
     "output_type": "stream",
     "text": [
      "[1, 2, 3, 4, 5, 6, 7, 8, 9, 10, 11, 12, 13, 14, 15, 16, 17, 18, 19, 20, 21, 22]\n",
      "1 3 5 7 9 11 13 15 17 19 21 "
     ]
    }
   ],
   "source": [
    "list = [i for i in range(1,23)]\n",
    "print(list)\n",
    "\n",
    "def odd(n):\n",
    "    for i in list:\n",
    "        if i%2 != 0:\n",
    "            print(i, end=\" \")\n",
    "odd(n)"
   ]
  },
  {
   "cell_type": "markdown",
   "id": "237d3f0f",
   "metadata": {},
   "source": [
    "### 9.\tWrite a Python program to Remove empty List from List?"
   ]
  },
  {
   "cell_type": "code",
   "execution_count": 38,
   "id": "4ca106fe",
   "metadata": {},
   "outputs": [
    {
     "name": "stdout",
     "output_type": "stream",
     "text": [
      "List after removing empty lists from list is [2, 25, 36, 85, 96, 50, 6, 3, 14, 36, 58]\n"
     ]
    }
   ],
   "source": [
    "list = [2,[],25,36,85,96,[],50,[],6,[],3,14,36,58,[]]\n",
    "\n",
    "list1 = [i for i in list if i != [] ]\n",
    "\n",
    "print(f'List after removing empty lists from list is {list1}')"
   ]
  },
  {
   "cell_type": "markdown",
   "id": "5cca843f",
   "metadata": {},
   "source": [
    "### 10.\tWrite a Python program to Cloning or Copying a list?"
   ]
  },
  {
   "cell_type": "code",
   "execution_count": 40,
   "id": "41d756a9",
   "metadata": {},
   "outputs": [
    {
     "name": "stdout",
     "output_type": "stream",
     "text": [
      "The list is [1, 2, 3, 4, 5, 6, 7, 8, 9, 10, 11, 12, 13, 14]\n",
      "The list after copying: [1, 2, 3, 4, 5, 6, 7, 8, 9, 10, 11, 12, 13, 14]\n"
     ]
    }
   ],
   "source": [
    "list = [i for i in range(1,15)]\n",
    "print(f'The list is {list}')\n",
    "\n",
    "list1 = list.copy()\n",
    "print(f'The list after copying: {list1}')"
   ]
  },
  {
   "cell_type": "markdown",
   "id": "ba293681",
   "metadata": {},
   "source": [
    "### 11.\tWrite a Python program to Count occurrences of an element in a list?"
   ]
  },
  {
   "cell_type": "code",
   "execution_count": 44,
   "id": "90c7e1e9",
   "metadata": {},
   "outputs": [
    {
     "name": "stdout",
     "output_type": "stream",
     "text": [
      "Enter the number of elements: 8\n",
      "2\n",
      "8\n",
      "2\n",
      "8\n",
      "2\n",
      "8\n",
      "2\n",
      "8\n",
      "The list is [2, 8, 2, 8, 2, 8, 2, 8]\n",
      "Enter the number to count its occurrences: 2\n",
      "2 has occured 4 times in a list\n"
     ]
    }
   ],
   "source": [
    "n = int(input('Enter the number of elements: '))\n",
    "\n",
    "list = []\n",
    "for i in range(n):\n",
    "    list.append(int(input()))\n",
    "print(f'The list is {list}')\n",
    "\n",
    "ele = int(input('Enter the number to count its occurrences: '))\n",
    "print(f'{ele} has occured {list.count(ele)} times in a list')"
   ]
  },
  {
   "cell_type": "code",
   "execution_count": null,
   "id": "eed0305b",
   "metadata": {},
   "outputs": [],
   "source": []
  }
 ],
 "metadata": {
  "kernelspec": {
   "display_name": "Python 3",
   "language": "python",
   "name": "python3"
  },
  "language_info": {
   "codemirror_mode": {
    "name": "ipython",
    "version": 3
   },
   "file_extension": ".py",
   "mimetype": "text/x-python",
   "name": "python",
   "nbconvert_exporter": "python",
   "pygments_lexer": "ipython3",
   "version": "3.8.8"
  }
 },
 "nbformat": 4,
 "nbformat_minor": 5
}
