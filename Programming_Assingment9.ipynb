{
 "cells": [
  {
   "cell_type": "markdown",
   "id": "52eb446e",
   "metadata": {},
   "source": [
    "### 1.\tWrite a Python program to check if the given number is a Disarium Number?"
   ]
  },
  {
   "cell_type": "markdown",
   "id": "528e2e05",
   "metadata": {},
   "source": [
    "A disarium number is a number in which the sum of the digits to the power of their respective position is equal to the number itself (position is counted from left to right starting from 1)."
   ]
  },
  {
   "cell_type": "code",
   "execution_count": 19,
   "id": "42e15e01",
   "metadata": {},
   "outputs": [
    {
     "name": "stdout",
     "output_type": "stream",
     "text": [
      "Enter a number: 175\n",
      "175 is a Disarium Number\n"
     ]
    }
   ],
   "source": [
    "def disarium(n):\n",
    "    n = int(input('Enter a number: '))\n",
    "    temp = n\n",
    "    sum = 0\n",
    "    while n > 0:\n",
    "        order = len(str(n))\n",
    "        digit = n%10\n",
    "        sum += digit**order\n",
    "        order -= 1\n",
    "        n = n//10\n",
    "    if sum == temp:\n",
    "        print(f'{temp} is a Disarium Number')\n",
    "    else:\n",
    "        print(f'{temp} is not a Disarium Number')\n",
    "\n",
    "disarium(n)"
   ]
  },
  {
   "cell_type": "markdown",
   "id": "5ad0e09f",
   "metadata": {},
   "source": [
    "### 2.\tWrite a Python program to print all disarium numbers between 1 to 100?"
   ]
  },
  {
   "cell_type": "code",
   "execution_count": 8,
   "id": "9a3d94e6",
   "metadata": {},
   "outputs": [
    {
     "name": "stdout",
     "output_type": "stream",
     "text": [
      "Disarium numbers in range 1 to 100\n",
      "[1, 2, 3, 4, 5, 6, 7, 8, 9, 89]\n"
     ]
    }
   ],
   "source": [
    "def disarium(n):\n",
    "        sum = 0\n",
    "        while n > 0:\n",
    "            order = len(str(n))\n",
    "            digit = n%10\n",
    "            sum += digit**order\n",
    "            order -= 1\n",
    "            n = n//10\n",
    "        return sum\n",
    "    \n",
    "print(\"Disarium numbers in range 1 to 100\")\n",
    "disarium_number = []\n",
    "\n",
    "for i in range(1,101):\n",
    "    sum = disarium(i)\n",
    "    if sum == i:\n",
    "        disarium_number.append(i)\n",
    "print(disarium_number)"
   ]
  },
  {
   "cell_type": "markdown",
   "id": "c843f8a6",
   "metadata": {},
   "source": [
    "### 3.\tWrite a Python program to check if the given number is Happy Number?"
   ]
  },
  {
   "cell_type": "markdown",
   "id": "01f48ce3",
   "metadata": {},
   "source": [
    "A number is called happy if it leads to 1 after a sequence of steps wherein each step number is replaced by the sum of squares of its digit that is if we start with Happy Number and keep replacing it with digits square sum, we reach 1.\n",
    "\n",
    "Input: n = 19\n",
    "\n",
    "Output: True\n",
    "\n",
    "19 is Happy Number,\n",
    "\n",
    "1^2 + 9^2 = 82\n",
    "\n",
    "8^2 + 2^2 = 68\n",
    "\n",
    "6^2 + 8^2 = 100\n",
    "\n",
    "1^2 + 0^2 + 0^2 = 1\n",
    "\n",
    "As we reached to 1, 19 is a Happy Number."
   ]
  },
  {
   "cell_type": "code",
   "execution_count": 7,
   "id": "2af3e9f5",
   "metadata": {},
   "outputs": [
    {
     "name": "stdout",
     "output_type": "stream",
     "text": [
      "Please enter a number: 23\n",
      "23 is a Happy Number\n"
     ]
    }
   ],
   "source": [
    "def Happy_number(n):\n",
    "    sum = 0\n",
    "    while n > 0:\n",
    "        digit = n%10\n",
    "        sum += digit**2\n",
    "        n = n//10\n",
    "    return sum\n",
    "\n",
    "n = int(input('Please enter a number: '))\n",
    "\n",
    "result = n\n",
    "\n",
    "while (result != 1 and result != 4):\n",
    "    result = Happy_number(result)\n",
    "\n",
    "if result == 1:\n",
    "    print(f\"{n} is a Happy Number\")\n",
    "else:\n",
    "    print(f\"{n} is not a Happy Number\")\n",
    "        "
   ]
  },
  {
   "cell_type": "markdown",
   "id": "c958012a",
   "metadata": {},
   "source": [
    "### 4.\tWrite a Python program to print all happy numbers between 1 and 100?"
   ]
  },
  {
   "cell_type": "code",
   "execution_count": 9,
   "id": "473cb073",
   "metadata": {},
   "outputs": [
    {
     "name": "stdout",
     "output_type": "stream",
     "text": [
      "Happy Numbers in range 1 to 100\n",
      "[1, 7, 10, 13, 19, 23, 28, 31, 32, 44, 49, 68, 70, 79, 82, 86, 91, 94, 97, 100]\n"
     ]
    }
   ],
   "source": [
    "def Happy_number(n):\n",
    "    sum = 0\n",
    "    while n > 0:\n",
    "        digit = n%10\n",
    "        sum += digit**2\n",
    "        n = n//10\n",
    "    return sum\n",
    "\n",
    "\n",
    "print(\"Happy Numbers in range 1 to 100\")\n",
    "\n",
    "result=num=i=0\n",
    "\n",
    "HappyNumber = []\n",
    "for i in range(1,101):\n",
    "    result = i\n",
    "    while (result != 1 and result != 4):\n",
    "        result = Happy_number(result)    \n",
    "    if result == 1:\n",
    "        HappyNumber.append(i)\n",
    "print(HappyNumber)"
   ]
  },
  {
   "cell_type": "markdown",
   "id": "d362a349",
   "metadata": {},
   "source": [
    "### 5.\tWrite a Python program to determine whether the given number is a Harshad Number?"
   ]
  },
  {
   "cell_type": "markdown",
   "id": "e2ef1bcd",
   "metadata": {},
   "source": [
    "A positive integer which is divisible by the sum of its digits, is called a Harshad Number."
   ]
  },
  {
   "cell_type": "code",
   "execution_count": 18,
   "id": "7e1e4bac",
   "metadata": {},
   "outputs": [
    {
     "name": "stdout",
     "output_type": "stream",
     "text": [
      "Please enter a number: 21\n",
      "21 is a Harshad Number\n"
     ]
    }
   ],
   "source": [
    "def harshad(n):\n",
    "    sum = 0\n",
    "    while n > 0:\n",
    "        digit = n % 10\n",
    "        sum += digit\n",
    "        n = n//10\n",
    "    return sum\n",
    "\n",
    "n = int(input('Please enter a number: '))\n",
    "\n",
    "sum = harshad(n)\n",
    "\n",
    "if n % sum == 0:\n",
    "    print(f\"{n} is a Harshad Number\")\n",
    "else:\n",
    "    print(f\"{n} is not a Harshad Number\")"
   ]
  },
  {
   "cell_type": "markdown",
   "id": "bed65948",
   "metadata": {},
   "source": [
    "### 6.\tWrite a Python program to print all pronic numbers between 1 and 100?"
   ]
  },
  {
   "cell_type": "markdown",
   "id": "9747f172",
   "metadata": {},
   "source": [
    "A pronic number is a number which is the product of two consecutive integers, that is, a number of the form n(n + 1)."
   ]
  },
  {
   "cell_type": "code",
   "execution_count": 22,
   "id": "456a6e53",
   "metadata": {},
   "outputs": [
    {
     "name": "stdout",
     "output_type": "stream",
     "text": [
      "Pronic Numbers in range between 1 and 100: \n",
      "[2, 6, 12, 20, 30, 42, 56, 72, 90]\n"
     ]
    }
   ],
   "source": [
    "def pronic(n):\n",
    "    PronicNum = False\n",
    "    for i in range(1, n+1):\n",
    "        if i*(i+1) == n:\n",
    "            PronicNum = True\n",
    "            break\n",
    "    return PronicNum\n",
    "\n",
    "print('Pronic Numbers in range between 1 and 100: ')\n",
    "\n",
    "pronic_number = []\n",
    "\n",
    "for i in range(1,101):\n",
    "    if pronic(i):\n",
    "        pronic_number.append(i)\n",
    "print(pronic_number)"
   ]
  },
  {
   "cell_type": "code",
   "execution_count": null,
   "id": "96936b16",
   "metadata": {},
   "outputs": [],
   "source": []
  }
 ],
 "metadata": {
  "kernelspec": {
   "display_name": "Python 3",
   "language": "python",
   "name": "python3"
  },
  "language_info": {
   "codemirror_mode": {
    "name": "ipython",
    "version": 3
   },
   "file_extension": ".py",
   "mimetype": "text/x-python",
   "name": "python",
   "nbconvert_exporter": "python",
   "pygments_lexer": "ipython3",
   "version": "3.8.8"
  }
 },
 "nbformat": 4,
 "nbformat_minor": 5
}
