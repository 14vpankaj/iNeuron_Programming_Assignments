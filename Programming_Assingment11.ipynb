{
 "cells": [
  {
   "cell_type": "markdown",
   "id": "d46b45d7",
   "metadata": {},
   "source": [
    "### 1.\tWrite a Python program to find words which are greater than given length k?"
   ]
  },
  {
   "cell_type": "code",
   "execution_count": 2,
   "id": "4261ff27",
   "metadata": {},
   "outputs": [
    {
     "name": "stdout",
     "output_type": "stream",
     "text": [
      "Enter the string: We are a way for the universe to know itself\n",
      "Enter the length of the word: 3\n",
      "The orginial string is:  We are a way for the universe to know itself\n",
      "Words which are greater than length 3\n",
      "['universe', 'know', 'itself']\n"
     ]
    }
   ],
   "source": [
    "def BiggerWords(k, str):\n",
    "    text = str.split()\n",
    "    words = []\n",
    "    for i in text:\n",
    "        if len(i) > k:\n",
    "            words.append(i)\n",
    "    return words\n",
    "\n",
    "str = input('Enter the string: ')\n",
    "k = int(input('Enter the length of the word: '))\n",
    "\n",
    "list_of_words = BiggerWords(k, str)\n",
    "\n",
    "print(f\"The orginial string is:  {str}\")\n",
    "print(f\"Words which are greater than length {k}\")\n",
    "print(list_of_words)"
   ]
  },
  {
   "cell_type": "markdown",
   "id": "05cb0f0e",
   "metadata": {},
   "source": [
    "### 2.\tWrite a Python program for removing i-th character from a string?"
   ]
  },
  {
   "cell_type": "code",
   "execution_count": 6,
   "id": "7771014a",
   "metadata": {},
   "outputs": [
    {
     "name": "stdout",
     "output_type": "stream",
     "text": [
      "Please enter the string: Epistemophile\n",
      "Please enter the i-th character: 5\n",
      "New String after removing i-th charater: Epistmophile\n"
     ]
    }
   ],
   "source": [
    "def ithCharater(i, str):\n",
    "    for j in range(len(str)):\n",
    "        if j == i:\n",
    "            str = str.replace(str[i], '', 1)\n",
    "    return str\n",
    "\n",
    "str = input('Please enter the string: ')\n",
    "i = int(input('Please enter the i-th character: '))\n",
    "\n",
    "print(f'New String after removing i-th charater: {ithCharater(i, str)}')     "
   ]
  },
  {
   "cell_type": "markdown",
   "id": "39e58b93",
   "metadata": {},
   "source": [
    "### 3.\tWrite a Python program to split and join a string?"
   ]
  },
  {
   "cell_type": "code",
   "execution_count": 8,
   "id": "3018a6e3",
   "metadata": {},
   "outputs": [
    {
     "name": "stdout",
     "output_type": "stream",
     "text": [
      "String after splitting: ['I', 'love', 'coding', 'in', 'Python']\n",
      "String after joining: I-love-coding-in-Python\n"
     ]
    }
   ],
   "source": [
    "str = 'I love coding in Python'\n",
    "\n",
    "split_str = str.split(\" \")\n",
    "print(f'String after splitting: {split_str}')\n",
    "\n",
    "join_str = \"-\".join(split_str)\n",
    "print(f'String after joining: {join_str}')"
   ]
  },
  {
   "cell_type": "markdown",
   "id": "3894ee64",
   "metadata": {},
   "source": [
    "### 4.\tWrite a Python to check if a given string is binary string or not?"
   ]
  },
  {
   "cell_type": "code",
   "execution_count": 10,
   "id": "57c2926b",
   "metadata": {},
   "outputs": [
    {
     "name": "stdout",
     "output_type": "stream",
     "text": [
      "Enter the string: 11010010011\n",
      "11010010011 is binary\n"
     ]
    }
   ],
   "source": [
    "def checkBinary(str):\n",
    "    binary = '01'\n",
    "    for i in range(len(str)):\n",
    "        if str[i] not in binary:\n",
    "            print(f\"{str} is not binary\")\n",
    "            break\n",
    "    else:\n",
    "        print(f'{str} is binary')\n",
    "\n",
    "str = input('Enter the string: ')\n",
    "\n",
    "checkBinary(str)"
   ]
  },
  {
   "cell_type": "markdown",
   "id": "9ab5aaf6",
   "metadata": {},
   "source": [
    "### 5.\tWrite a Python program to find uncommon words from two Strings?"
   ]
  },
  {
   "cell_type": "code",
   "execution_count": 13,
   "id": "fcdf731e",
   "metadata": {},
   "outputs": [
    {
     "name": "stdout",
     "output_type": "stream",
     "text": [
      "Please enter the first string: This is star\n",
      "Please enter the second string: this is sun\n",
      "List of uncommon words from two strings is ['STAR', 'SUN']\n"
     ]
    }
   ],
   "source": [
    "def Uncommon(str1, str2):\n",
    "    words_str1 = str1.split()\n",
    "    words_str2 = str2.split()\n",
    "    \n",
    "    UncommonWords = []\n",
    "    \n",
    "    for i in words_str1:\n",
    "        if i not in words_str2:\n",
    "            UncommonWords.append(i)\n",
    "    for j in words_str2:\n",
    "        if j not in words_str1:\n",
    "            UncommonWords.append(j)\n",
    "    return UncommonWords\n",
    "\n",
    "str1 = input('Please enter the first string: ').upper()\n",
    "str2 = input('Please enter the second string: ').upper()\n",
    "\n",
    "print(f\"List of uncommon words from two strings is {Uncommon(str1, str2)}\")\n",
    "    "
   ]
  },
  {
   "cell_type": "markdown",
   "id": "3bf380a6",
   "metadata": {},
   "source": [
    "### 6.\tWrite a Python program  to find all duplicate characters in string?"
   ]
  },
  {
   "cell_type": "code",
   "execution_count": 19,
   "id": "115e482f",
   "metadata": {},
   "outputs": [
    {
     "name": "stdout",
     "output_type": "stream",
     "text": [
      "Please enter the string: Epistemophile\n",
      "List of duplicate charaters in epistemophile is ['e', 'p', 'i']\n"
     ]
    }
   ],
   "source": [
    "duplicate_charaters = []\n",
    "for i in str:\n",
    "    if str.count(i) > 1:\n",
    "        if i not in duplicate_charaters:\n",
    "            duplicate_charaters.append(i)\n",
    "\n",
    "str = input('Please enter the string: ').lower()\n",
    "\n",
    "print(f'List of duplicate charaters in {str} is {duplicate_charaters}')"
   ]
  },
  {
   "cell_type": "markdown",
   "id": "77d42cf2",
   "metadata": {},
   "source": [
    "### 7.\tWrite a Python Program to check if a string contains any special character?"
   ]
  },
  {
   "cell_type": "code",
   "execution_count": 22,
   "id": "dd66d5f7",
   "metadata": {},
   "outputs": [
    {
     "name": "stdout",
     "output_type": "stream",
     "text": [
      "Enter the string: Py&th@isG**D\n",
      "py&th@isg**d contains ['&', '@', '*', '*'] special charaters.\n"
     ]
    }
   ],
   "source": [
    "import string\n",
    "\n",
    "string_char = string.punctuation\n",
    "\n",
    "special_character = []\n",
    "\n",
    "str = input('Enter the string: ').lower()\n",
    "\n",
    "for i in str:\n",
    "    if i in string_char:\n",
    "        special_character.append(i)\n",
    "        \n",
    "if len(special_character) > 0:\n",
    "    print(f'{str} contains {special_character} special charaters.')"
   ]
  },
  {
   "cell_type": "code",
   "execution_count": null,
   "id": "44d8af6e",
   "metadata": {},
   "outputs": [],
   "source": []
  }
 ],
 "metadata": {
  "kernelspec": {
   "display_name": "Python 3",
   "language": "python",
   "name": "python3"
  },
  "language_info": {
   "codemirror_mode": {
    "name": "ipython",
    "version": 3
   },
   "file_extension": ".py",
   "mimetype": "text/x-python",
   "name": "python",
   "nbconvert_exporter": "python",
   "pygments_lexer": "ipython3",
   "version": "3.8.8"
  }
 },
 "nbformat": 4,
 "nbformat_minor": 5
}
